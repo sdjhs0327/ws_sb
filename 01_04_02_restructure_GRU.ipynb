{
 "cells": [
  {
   "cell_type": "code",
   "execution_count": 1,
   "metadata": {
    "ExecuteTime": {
     "end_time": "2022-03-15T05:08:09.594000Z",
     "start_time": "2022-03-15T05:08:09.131277Z"
    }
   },
   "outputs": [],
   "source": [
    "import pandas as pd\n",
    "import warnings\n",
    "warnings.filterwarnings('ignore')\n",
    "import numpy as np"
   ]
  },
  {
   "cell_type": "markdown",
   "metadata": {},
   "source": [
    "## Func"
   ]
  },
  {
   "cell_type": "code",
   "execution_count": 2,
   "metadata": {
    "ExecuteTime": {
     "end_time": "2022-03-15T05:08:09.623919Z",
     "start_time": "2022-03-15T05:08:09.609997Z"
    }
   },
   "outputs": [],
   "source": [
    "## 데이터 구성함수\n",
    "def multivariate_data(dataset, target, start_index, end_index, history_size,\n",
    "                      target_size, step, single_step=False):\n",
    "    data = []\n",
    "    labels = []\n",
    "\n",
    "    start_index = start_index + history_size\n",
    "    if end_index is None:\n",
    "        end_index = len(dataset) - target_size\n",
    "\n",
    "    for i in range(start_index, end_index):\n",
    "        indices = range(i-history_size, i, step)\n",
    "        data.append(dataset[indices])\n",
    "\n",
    "        if single_step:\n",
    "            labels.append(target[i+target_size])\n",
    "        else:\n",
    "            labels.append(target[i:i+target_size])\n",
    "\n",
    "    return np.array(data), np.array(labels)"
   ]
  },
  {
   "cell_type": "markdown",
   "metadata": {},
   "source": [
    "## Data"
   ]
  },
  {
   "cell_type": "code",
   "execution_count": 3,
   "metadata": {
    "ExecuteTime": {
     "end_time": "2022-03-15T05:08:11.001116Z",
     "start_time": "2022-03-15T05:08:10.918303Z"
    }
   },
   "outputs": [],
   "source": [
    "df_ori = pd.read_csv('data/data_featsel.csv', index_col=0)\n",
    "df_ori['spread'] = df_ori['spread'] - df_ori['spread'].shift(1)"
   ]
  },
  {
   "cell_type": "code",
   "execution_count": 4,
   "metadata": {
    "ExecuteTime": {
     "end_time": "2022-03-15T05:08:11.584618Z",
     "start_time": "2022-03-15T05:08:11.565657Z"
    }
   },
   "outputs": [],
   "source": [
    "## dataset = df_ori[['spread_ratio', 'spread_ratio', 'vwap_near_rets_abs', 'duetime', 'volume_near_log', 'spread']].dropna()"
   ]
  },
  {
   "cell_type": "code",
   "execution_count": 5,
   "metadata": {
    "ExecuteTime": {
     "end_time": "2022-03-15T05:08:11.988528Z",
     "start_time": "2022-03-15T05:08:11.968580Z"
    }
   },
   "outputs": [],
   "source": [
    "dataset = df_ori[['spread_ratio', 'spread_ratio', 'vwap_near_rets_abs', 'duetime', 'volume_near_log', 'spread']][df_ori['epi_no'] > 1]"
   ]
  },
  {
   "cell_type": "markdown",
   "metadata": {},
   "source": [
    "## Restructure"
   ]
  },
  {
   "cell_type": "code",
   "execution_count": 6,
   "metadata": {
    "ExecuteTime": {
     "end_time": "2022-03-15T05:08:13.800590Z",
     "start_time": "2022-03-15T05:08:13.478443Z"
    }
   },
   "outputs": [],
   "source": [
    "df = dataset.copy()\n",
    "dataset = df.values\n",
    "train_start = 0\n",
    "train_end = len(df_ori[df_ori['epi_no'] <= 5]) ## 5개 분기\n",
    "history_size = 8\n",
    "target_size = 0\n",
    "step = 1\n",
    "single_step = True\n",
    "\n",
    "valid_start = train_end-history_size\n",
    "valid_end = len(df_ori[df_ori['epi_no'] <= 8]) ## 3개 분기\n",
    "\n",
    "test_start = valid_end-history_size\n",
    "test_end = None\n",
    "\n",
    "target = dataset[:, -1]\n",
    "\n",
    "X_train, y_train = multivariate_data(dataset, target, train_start, train_end, history_size, target_size, step, single_step)\n",
    "X_valid, y_valid = multivariate_data(dataset, target, valid_start, valid_end, history_size, target_size, step, single_step)\n",
    "X_test, y_test = multivariate_data(dataset, target, test_start, test_end, history_size, target_size, step, single_step)\n",
    "\n",
    "train_date = pd.DataFrame(df[train_start+history_size:train_end].index)\n",
    "valid_date = pd.DataFrame(df[valid_start+history_size:valid_end].index)\n",
    "test_date = pd.DataFrame(df[test_start+history_size:test_end].index)"
   ]
  },
  {
   "cell_type": "code",
   "execution_count": 7,
   "metadata": {
    "ExecuteTime": {
     "end_time": "2022-03-15T05:08:15.209359Z",
     "start_time": "2022-03-15T05:08:15.127582Z"
    }
   },
   "outputs": [],
   "source": [
    "np.save(f'data/RNN/train_X.npy',X_train)\n",
    "np.save(f'data/RNN/train_y.npy',y_train)\n",
    "np.save(f'data/RNN/valid_X.npy',X_valid)\n",
    "np.save(f'data/RNN/valid_y.npy',y_valid)\n",
    "np.save(f'data/RNN/test_X.npy',X_test)\n",
    "np.save(f'data/RNN/test_y.npy',y_test)\n",
    "\n",
    "train_date.to_csv(f'data/RNN/train_ans.csv')\n",
    "valid_date.to_csv(f'data/RNN/valid_ans.csv')\n",
    "test_date.to_csv(f'data/RNN/test_ans.csv')"
   ]
  },
  {
   "cell_type": "code",
   "execution_count": null,
   "metadata": {},
   "outputs": [],
   "source": []
  }
 ],
 "metadata": {
  "hide_input": false,
  "kernelspec": {
   "display_name": "Python 3",
   "language": "python",
   "name": "python3"
  },
  "language_info": {
   "codemirror_mode": {
    "name": "ipython",
    "version": 3
   },
   "file_extension": ".py",
   "mimetype": "text/x-python",
   "name": "python",
   "nbconvert_exporter": "python",
   "pygments_lexer": "ipython3",
   "version": "3.8.5"
  },
  "toc": {
   "base_numbering": 1,
   "nav_menu": {},
   "number_sections": true,
   "sideBar": true,
   "skip_h1_title": false,
   "title_cell": "Table of Contents",
   "title_sidebar": "Contents",
   "toc_cell": false,
   "toc_position": {},
   "toc_section_display": true,
   "toc_window_display": false
  },
  "varInspector": {
   "cols": {
    "lenName": 16,
    "lenType": 16,
    "lenVar": 40
   },
   "kernels_config": {
    "python": {
     "delete_cmd_postfix": "",
     "delete_cmd_prefix": "del ",
     "library": "var_list.py",
     "varRefreshCmd": "print(var_dic_list())"
    },
    "r": {
     "delete_cmd_postfix": ") ",
     "delete_cmd_prefix": "rm(",
     "library": "var_list.r",
     "varRefreshCmd": "cat(var_dic_list()) "
    }
   },
   "types_to_exclude": [
    "module",
    "function",
    "builtin_function_or_method",
    "instance",
    "_Feature"
   ],
   "window_display": false
  }
 },
 "nbformat": 4,
 "nbformat_minor": 5
}
