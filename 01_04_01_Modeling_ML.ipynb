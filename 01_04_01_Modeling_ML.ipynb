{
 "cells": [
  {
   "cell_type": "markdown",
   "id": "a36eb838",
   "metadata": {},
   "source": [
    "###### 모델링 방향"
   ]
  },
  {
   "cell_type": "markdown",
   "id": "ae003663",
   "metadata": {},
   "source": [
    "* 직전 단위시간 정보로 현단위시간 Spread를 예측하는 구조로 설계함\n",
    "* 예측결과와 현재 스프레드를 비교해서 포지션을 결정하는 구조로 전략에 활용할 수 있음"
   ]
  },
  {
   "cell_type": "code",
   "execution_count": 231,
   "id": "c4f67399",
   "metadata": {
    "ExecuteTime": {
     "end_time": "2022-03-12T15:24:10.540784Z",
     "start_time": "2022-03-12T15:24:10.536781Z"
    }
   },
   "outputs": [],
   "source": [
    "import pandas as pd\n",
    "import warnings\n",
    "warnings.filterwarnings('ignore')\n",
    "import numpy as np\n",
    "import math\n",
    "import datetime as dt"
   ]
  },
  {
   "cell_type": "code",
   "execution_count": 232,
   "id": "46cf4027",
   "metadata": {
    "ExecuteTime": {
     "end_time": "2022-03-12T15:24:11.054776Z",
     "start_time": "2022-03-12T15:24:11.040765Z"
    }
   },
   "outputs": [],
   "source": [
    "from sklearn.model_selection import train_test_split\n",
    "from sklearn.metrics import mean_squared_error\n",
    "from sklearn.ensemble import RandomForestRegressor\n",
    "from sklearn.pipeline import make_pipeline\n",
    "from sklearn.pipeline import Pipeline\n",
    "from sklearn.model_selection import cross_val_score, GridSearchCV\n",
    "\n",
    "from sklearn.preprocessing import RobustScaler\n",
    "from sklearn.preprocessing import MinMaxScaler"
   ]
  },
  {
   "cell_type": "code",
   "execution_count": 233,
   "id": "a2ea9efe",
   "metadata": {
    "ExecuteTime": {
     "end_time": "2022-03-12T15:24:11.523165Z",
     "start_time": "2022-03-12T15:24:11.513165Z"
    }
   },
   "outputs": [],
   "source": [
    "import scipy.optimize as opt"
   ]
  },
  {
   "cell_type": "code",
   "execution_count": 234,
   "id": "3c4ec90d",
   "metadata": {
    "ExecuteTime": {
     "end_time": "2022-03-12T15:24:11.883942Z",
     "start_time": "2022-03-12T15:24:11.874930Z"
    }
   },
   "outputs": [],
   "source": [
    "## 시각화\n",
    "import matplotlib.pyplot as plt\n",
    "import seaborn as sns\n",
    "\n",
    "plt.rcParams[\"figure.figsize\"] = (13,7)"
   ]
  },
  {
   "cell_type": "code",
   "execution_count": 235,
   "id": "2920fdb0",
   "metadata": {
    "ExecuteTime": {
     "end_time": "2022-03-12T15:24:12.156070Z",
     "start_time": "2022-03-12T15:24:12.145049Z"
    }
   },
   "outputs": [],
   "source": [
    "## 평가모듈\n",
    "import evaluation_module as evm"
   ]
  },
  {
   "cell_type": "markdown",
   "id": "28109e43",
   "metadata": {},
   "source": [
    "## Data"
   ]
  },
  {
   "cell_type": "code",
   "execution_count": 236,
   "id": "a4510c73",
   "metadata": {
    "ExecuteTime": {
     "end_time": "2022-03-12T15:24:13.191189Z",
     "start_time": "2022-03-12T15:24:13.113162Z"
    }
   },
   "outputs": [],
   "source": [
    "df_ori = pd.read_csv('data/data_featsel.csv')\n",
    "df_ori['time'] = pd.to_datetime(df_ori['time'])\n",
    "df_ori = df_ori.set_index('time')"
   ]
  },
  {
   "cell_type": "code",
   "execution_count": 237,
   "id": "f03d709a",
   "metadata": {
    "ExecuteTime": {
     "end_time": "2022-03-12T15:24:13.718034Z",
     "start_time": "2022-03-12T15:24:13.705030Z"
    }
   },
   "outputs": [
    {
     "data": {
      "text/plain": [
       "Timestamp('2019-12-27 13:00:00')"
      ]
     },
     "execution_count": 237,
     "metadata": {},
     "output_type": "execute_result"
    }
   ],
   "source": [
    "## Test index\n",
    "test_split = df_ori[df_ori['epi_no'] > 8].index[0]\n",
    "test_split"
   ]
  },
  {
   "cell_type": "markdown",
   "id": "770ff376",
   "metadata": {},
   "source": [
    "## Modeling"
   ]
  },
  {
   "cell_type": "code",
   "execution_count": 238,
   "id": "ce6762b0",
   "metadata": {
    "ExecuteTime": {
     "end_time": "2022-03-12T15:24:15.157708Z",
     "start_time": "2022-03-12T15:24:15.137685Z"
    }
   },
   "outputs": [],
   "source": [
    "## 자신의 이전값도 포함\n",
    "dataset = df_ori[['spread_ratio', 'vwap_near_rets_abs', 'duetime', 'volume_near_log']].copy()\n",
    "dataset = dataset.shift(1).dropna()\n",
    "dataset['target'] = df_ori['spread'].copy()\n",
    "\n",
    "y = dataset.pop(dataset.columns[-1])\n",
    "X = dataset"
   ]
  },
  {
   "cell_type": "code",
   "execution_count": 214,
   "id": "05eeec8f",
   "metadata": {
    "ExecuteTime": {
     "end_time": "2022-03-12T15:23:07.517525Z",
     "start_time": "2022-03-12T15:23:07.497519Z"
    }
   },
   "outputs": [],
   "source": [
    "y_train = y[y.index < test_split]\n",
    "y_test = y[test_split:]\n",
    "\n",
    "X_train = X[X.index < test_split]\n",
    "X_test = X[test_split:]"
   ]
  },
  {
   "cell_type": "code",
   "execution_count": 216,
   "id": "99bb0059",
   "metadata": {
    "ExecuteTime": {
     "end_time": "2022-03-12T15:23:12.249261Z",
     "start_time": "2022-03-12T15:23:12.227256Z"
    }
   },
   "outputs": [],
   "source": [
    "## scaler\n",
    "scaler = RobustScaler()\n",
    "scaler.fit(X_train)\n",
    "\n",
    "X_train_scaled = scaler.transform(X_train)\n",
    "X_test_scaled = scaler.transform(X_test)\n",
    "X_add_scaled = scaler.transform(df_ori[['spread_ratio', 'vwap_near_rets_abs', 'duetime', 'volume_near_log']][-1:])"
   ]
  },
  {
   "cell_type": "code",
   "execution_count": 158,
   "id": "f7bf954d",
   "metadata": {
    "ExecuteTime": {
     "end_time": "2022-03-12T15:06:23.861343Z",
     "start_time": "2022-03-12T14:40:37.372041Z"
    },
    "scrolled": true
   },
   "outputs": [
    {
     "name": "stdout",
     "output_type": "stream",
     "text": [
      "Fitting 5 folds for each of 125 candidates, totalling 625 fits\n",
      "[CV] END max_depth=5, min_samples_leaf=5, min_samples_split=5; total time=   1.8s\n",
      "[CV] END max_depth=5, min_samples_leaf=5, min_samples_split=5; total time=   1.7s\n",
      "[CV] END max_depth=5, min_samples_leaf=5, min_samples_split=5; total time=   1.7s\n",
      "[CV] END max_depth=5, min_samples_leaf=5, min_samples_split=5; total time=   1.7s\n",
      "[CV] END max_depth=5, min_samples_leaf=5, min_samples_split=5; total time=   1.7s\n",
      "[CV] END max_depth=5, min_samples_leaf=5, min_samples_split=6; total time=   1.8s\n",
      "[CV] END max_depth=5, min_samples_leaf=5, min_samples_split=6; total time=   1.7s\n",
      "[CV] END max_depth=5, min_samples_leaf=5, min_samples_split=6; total time=   1.7s\n",
      "[CV] END max_depth=5, min_samples_leaf=5, min_samples_split=6; total time=   1.8s\n",
      "[CV] END max_depth=5, min_samples_leaf=5, min_samples_split=6; total time=   1.7s\n",
      "[CV] END max_depth=5, min_samples_leaf=5, min_samples_split=7; total time=   1.8s\n",
      "[CV] END max_depth=5, min_samples_leaf=5, min_samples_split=7; total time=   1.7s\n",
      "[CV] END max_depth=5, min_samples_leaf=5, min_samples_split=7; total time=   1.7s\n",
      "[CV] END max_depth=5, min_samples_leaf=5, min_samples_split=7; total time=   1.8s\n",
      "[CV] END max_depth=5, min_samples_leaf=5, min_samples_split=7; total time=   1.7s\n",
      "[CV] END max_depth=5, min_samples_leaf=5, min_samples_split=8; total time=   1.7s\n",
      "[CV] END max_depth=5, min_samples_leaf=5, min_samples_split=8; total time=   1.8s\n",
      "[CV] END max_depth=5, min_samples_leaf=5, min_samples_split=8; total time=   1.7s\n",
      "[CV] END max_depth=5, min_samples_leaf=5, min_samples_split=8; total time=   1.8s\n",
      "[CV] END max_depth=5, min_samples_leaf=5, min_samples_split=8; total time=   1.7s\n",
      "[CV] END max_depth=5, min_samples_leaf=5, min_samples_split=9; total time=   1.7s\n",
      "[CV] END max_depth=5, min_samples_leaf=5, min_samples_split=9; total time=   1.8s\n",
      "[CV] END max_depth=5, min_samples_leaf=5, min_samples_split=9; total time=   1.7s\n",
      "[CV] END max_depth=5, min_samples_leaf=5, min_samples_split=9; total time=   1.7s\n",
      "[CV] END max_depth=5, min_samples_leaf=5, min_samples_split=9; total time=   1.8s\n",
      "[CV] END max_depth=5, min_samples_leaf=6, min_samples_split=5; total time=   1.7s\n",
      "[CV] END max_depth=5, min_samples_leaf=6, min_samples_split=5; total time=   1.8s\n",
      "[CV] END max_depth=5, min_samples_leaf=6, min_samples_split=5; total time=   1.7s\n",
      "[CV] END max_depth=5, min_samples_leaf=6, min_samples_split=5; total time=   1.7s\n",
      "[CV] END max_depth=5, min_samples_leaf=6, min_samples_split=5; total time=   1.8s\n",
      "[CV] END max_depth=5, min_samples_leaf=6, min_samples_split=6; total time=   1.7s\n",
      "[CV] END max_depth=5, min_samples_leaf=6, min_samples_split=6; total time=   1.7s\n",
      "[CV] END max_depth=5, min_samples_leaf=6, min_samples_split=6; total time=   1.7s\n",
      "[CV] END max_depth=5, min_samples_leaf=6, min_samples_split=6; total time=   1.7s\n",
      "[CV] END max_depth=5, min_samples_leaf=6, min_samples_split=6; total time=   1.8s\n",
      "[CV] END max_depth=5, min_samples_leaf=6, min_samples_split=7; total time=   1.7s\n",
      "[CV] END max_depth=5, min_samples_leaf=6, min_samples_split=7; total time=   1.7s\n",
      "[CV] END max_depth=5, min_samples_leaf=6, min_samples_split=7; total time=   1.8s\n",
      "[CV] END max_depth=5, min_samples_leaf=6, min_samples_split=7; total time=   1.7s\n",
      "[CV] END max_depth=5, min_samples_leaf=6, min_samples_split=7; total time=   1.7s\n",
      "[CV] END max_depth=5, min_samples_leaf=6, min_samples_split=8; total time=   1.7s\n",
      "[CV] END max_depth=5, min_samples_leaf=6, min_samples_split=8; total time=   1.7s\n",
      "[CV] END max_depth=5, min_samples_leaf=6, min_samples_split=8; total time=   1.8s\n",
      "[CV] END max_depth=5, min_samples_leaf=6, min_samples_split=8; total time=   1.7s\n",
      "[CV] END max_depth=5, min_samples_leaf=6, min_samples_split=8; total time=   1.7s\n",
      "[CV] END max_depth=5, min_samples_leaf=6, min_samples_split=9; total time=   1.7s\n",
      "[CV] END max_depth=5, min_samples_leaf=6, min_samples_split=9; total time=   1.7s\n",
      "[CV] END max_depth=5, min_samples_leaf=6, min_samples_split=9; total time=   1.7s\n",
      "[CV] END max_depth=5, min_samples_leaf=6, min_samples_split=9; total time=   1.8s\n",
      "[CV] END max_depth=5, min_samples_leaf=6, min_samples_split=9; total time=   1.8s\n",
      "[CV] END max_depth=5, min_samples_leaf=7, min_samples_split=5; total time=   1.8s\n",
      "[CV] END max_depth=5, min_samples_leaf=7, min_samples_split=5; total time=   1.7s\n",
      "[CV] END max_depth=5, min_samples_leaf=7, min_samples_split=5; total time=   1.7s\n",
      "[CV] END max_depth=5, min_samples_leaf=7, min_samples_split=5; total time=   1.8s\n",
      "[CV] END max_depth=5, min_samples_leaf=7, min_samples_split=5; total time=   1.8s\n",
      "[CV] END max_depth=5, min_samples_leaf=7, min_samples_split=6; total time=   1.7s\n",
      "[CV] END max_depth=5, min_samples_leaf=7, min_samples_split=6; total time=   1.8s\n",
      "[CV] END max_depth=5, min_samples_leaf=7, min_samples_split=6; total time=   1.7s\n",
      "[CV] END max_depth=5, min_samples_leaf=7, min_samples_split=6; total time=   1.8s\n",
      "[CV] END max_depth=5, min_samples_leaf=7, min_samples_split=6; total time=   1.8s\n",
      "[CV] END max_depth=5, min_samples_leaf=7, min_samples_split=7; total time=   1.8s\n",
      "[CV] END max_depth=5, min_samples_leaf=7, min_samples_split=7; total time=   1.8s\n",
      "[CV] END max_depth=5, min_samples_leaf=7, min_samples_split=7; total time=   1.8s\n",
      "[CV] END max_depth=5, min_samples_leaf=7, min_samples_split=7; total time=   1.8s\n",
      "[CV] END max_depth=5, min_samples_leaf=7, min_samples_split=7; total time=   1.8s\n",
      "[CV] END max_depth=5, min_samples_leaf=7, min_samples_split=8; total time=   1.7s\n",
      "[CV] END max_depth=5, min_samples_leaf=7, min_samples_split=8; total time=   1.8s\n",
      "[CV] END max_depth=5, min_samples_leaf=7, min_samples_split=8; total time=   1.7s\n",
      "[CV] END max_depth=5, min_samples_leaf=7, min_samples_split=8; total time=   1.7s\n",
      "[CV] END max_depth=5, min_samples_leaf=7, min_samples_split=8; total time=   1.8s\n",
      "[CV] END max_depth=5, min_samples_leaf=7, min_samples_split=9; total time=   1.7s\n",
      "[CV] END max_depth=5, min_samples_leaf=7, min_samples_split=9; total time=   1.8s\n",
      "[CV] END max_depth=5, min_samples_leaf=7, min_samples_split=9; total time=   1.7s\n",
      "[CV] END max_depth=5, min_samples_leaf=7, min_samples_split=9; total time=   1.7s\n",
      "[CV] END max_depth=5, min_samples_leaf=7, min_samples_split=9; total time=   1.8s\n",
      "[CV] END max_depth=5, min_samples_leaf=8, min_samples_split=5; total time=   1.7s\n",
      "[CV] END max_depth=5, min_samples_leaf=8, min_samples_split=5; total time=   1.8s\n",
      "[CV] END max_depth=5, min_samples_leaf=8, min_samples_split=5; total time=   1.8s\n",
      "[CV] END max_depth=5, min_samples_leaf=8, min_samples_split=5; total time=   1.8s\n",
      "[CV] END max_depth=5, min_samples_leaf=8, min_samples_split=5; total time=   1.8s\n",
      "[CV] END max_depth=5, min_samples_leaf=8, min_samples_split=6; total time=   1.7s\n",
      "[CV] END max_depth=5, min_samples_leaf=8, min_samples_split=6; total time=   1.7s\n",
      "[CV] END max_depth=5, min_samples_leaf=8, min_samples_split=6; total time=   1.8s\n",
      "[CV] END max_depth=5, min_samples_leaf=8, min_samples_split=6; total time=   1.7s\n",
      "[CV] END max_depth=5, min_samples_leaf=8, min_samples_split=6; total time=   1.8s\n",
      "[CV] END max_depth=5, min_samples_leaf=8, min_samples_split=7; total time=   1.8s\n",
      "[CV] END max_depth=5, min_samples_leaf=8, min_samples_split=7; total time=   1.7s\n",
      "[CV] END max_depth=5, min_samples_leaf=8, min_samples_split=7; total time=   1.8s\n",
      "[CV] END max_depth=5, min_samples_leaf=8, min_samples_split=7; total time=   1.7s\n",
      "[CV] END max_depth=5, min_samples_leaf=8, min_samples_split=7; total time=   1.7s\n",
      "[CV] END max_depth=5, min_samples_leaf=8, min_samples_split=8; total time=   1.8s\n",
      "[CV] END max_depth=5, min_samples_leaf=8, min_samples_split=8; total time=   1.7s\n",
      "[CV] END max_depth=5, min_samples_leaf=8, min_samples_split=8; total time=   1.8s\n",
      "[CV] END max_depth=5, min_samples_leaf=8, min_samples_split=8; total time=   1.7s\n",
      "[CV] END max_depth=5, min_samples_leaf=8, min_samples_split=8; total time=   1.8s\n",
      "[CV] END max_depth=5, min_samples_leaf=8, min_samples_split=9; total time=   1.8s\n",
      "[CV] END max_depth=5, min_samples_leaf=8, min_samples_split=9; total time=   1.7s\n",
      "[CV] END max_depth=5, min_samples_leaf=8, min_samples_split=9; total time=   1.7s\n",
      "[CV] END max_depth=5, min_samples_leaf=8, min_samples_split=9; total time=   1.8s\n",
      "[CV] END max_depth=5, min_samples_leaf=8, min_samples_split=9; total time=   1.7s\n"
     ]
    },
    {
     "name": "stdout",
     "output_type": "stream",
     "text": [
      "[CV] END max_depth=5, min_samples_leaf=9, min_samples_split=5; total time=   1.8s\n",
      "[CV] END max_depth=5, min_samples_leaf=9, min_samples_split=5; total time=   1.7s\n",
      "[CV] END max_depth=5, min_samples_leaf=9, min_samples_split=5; total time=   1.7s\n",
      "[CV] END max_depth=5, min_samples_leaf=9, min_samples_split=5; total time=   1.8s\n",
      "[CV] END max_depth=5, min_samples_leaf=9, min_samples_split=5; total time=   1.8s\n",
      "[CV] END max_depth=5, min_samples_leaf=9, min_samples_split=6; total time=   1.8s\n",
      "[CV] END max_depth=5, min_samples_leaf=9, min_samples_split=6; total time=   1.8s\n",
      "[CV] END max_depth=5, min_samples_leaf=9, min_samples_split=6; total time=   1.7s\n",
      "[CV] END max_depth=5, min_samples_leaf=9, min_samples_split=6; total time=   1.8s\n",
      "[CV] END max_depth=5, min_samples_leaf=9, min_samples_split=6; total time=   1.8s\n",
      "[CV] END max_depth=5, min_samples_leaf=9, min_samples_split=7; total time=   1.7s\n",
      "[CV] END max_depth=5, min_samples_leaf=9, min_samples_split=7; total time=   1.8s\n",
      "[CV] END max_depth=5, min_samples_leaf=9, min_samples_split=7; total time=   1.7s\n",
      "[CV] END max_depth=5, min_samples_leaf=9, min_samples_split=7; total time=   1.8s\n",
      "[CV] END max_depth=5, min_samples_leaf=9, min_samples_split=7; total time=   1.8s\n",
      "[CV] END max_depth=5, min_samples_leaf=9, min_samples_split=8; total time=   1.7s\n",
      "[CV] END max_depth=5, min_samples_leaf=9, min_samples_split=8; total time=   1.8s\n",
      "[CV] END max_depth=5, min_samples_leaf=9, min_samples_split=8; total time=   1.8s\n",
      "[CV] END max_depth=5, min_samples_leaf=9, min_samples_split=8; total time=   1.8s\n",
      "[CV] END max_depth=5, min_samples_leaf=9, min_samples_split=8; total time=   1.8s\n",
      "[CV] END max_depth=5, min_samples_leaf=9, min_samples_split=9; total time=   1.7s\n",
      "[CV] END max_depth=5, min_samples_leaf=9, min_samples_split=9; total time=   1.8s\n",
      "[CV] END max_depth=5, min_samples_leaf=9, min_samples_split=9; total time=   1.7s\n",
      "[CV] END max_depth=5, min_samples_leaf=9, min_samples_split=9; total time=   1.7s\n",
      "[CV] END max_depth=5, min_samples_leaf=9, min_samples_split=9; total time=   1.8s\n",
      "[CV] END max_depth=6, min_samples_leaf=5, min_samples_split=5; total time=   2.0s\n",
      "[CV] END max_depth=6, min_samples_leaf=5, min_samples_split=5; total time=   2.0s\n",
      "[CV] END max_depth=6, min_samples_leaf=5, min_samples_split=5; total time=   2.3s\n",
      "[CV] END max_depth=6, min_samples_leaf=5, min_samples_split=5; total time=   2.4s\n",
      "[CV] END max_depth=6, min_samples_leaf=5, min_samples_split=5; total time=   2.2s\n",
      "[CV] END max_depth=6, min_samples_leaf=5, min_samples_split=6; total time=   2.2s\n",
      "[CV] END max_depth=6, min_samples_leaf=5, min_samples_split=6; total time=   2.2s\n",
      "[CV] END max_depth=6, min_samples_leaf=5, min_samples_split=6; total time=   2.1s\n",
      "[CV] END max_depth=6, min_samples_leaf=5, min_samples_split=6; total time=   2.2s\n",
      "[CV] END max_depth=6, min_samples_leaf=5, min_samples_split=6; total time=   2.2s\n",
      "[CV] END max_depth=6, min_samples_leaf=5, min_samples_split=7; total time=   2.2s\n",
      "[CV] END max_depth=6, min_samples_leaf=5, min_samples_split=7; total time=   2.1s\n",
      "[CV] END max_depth=6, min_samples_leaf=5, min_samples_split=7; total time=   2.1s\n",
      "[CV] END max_depth=6, min_samples_leaf=5, min_samples_split=7; total time=   2.2s\n",
      "[CV] END max_depth=6, min_samples_leaf=5, min_samples_split=7; total time=   2.2s\n",
      "[CV] END max_depth=6, min_samples_leaf=5, min_samples_split=8; total time=   2.1s\n",
      "[CV] END max_depth=6, min_samples_leaf=5, min_samples_split=8; total time=   2.2s\n",
      "[CV] END max_depth=6, min_samples_leaf=5, min_samples_split=8; total time=   2.1s\n",
      "[CV] END max_depth=6, min_samples_leaf=5, min_samples_split=8; total time=   2.2s\n",
      "[CV] END max_depth=6, min_samples_leaf=5, min_samples_split=8; total time=   2.2s\n",
      "[CV] END max_depth=6, min_samples_leaf=5, min_samples_split=9; total time=   2.1s\n",
      "[CV] END max_depth=6, min_samples_leaf=5, min_samples_split=9; total time=   2.2s\n",
      "[CV] END max_depth=6, min_samples_leaf=5, min_samples_split=9; total time=   2.2s\n",
      "[CV] END max_depth=6, min_samples_leaf=5, min_samples_split=9; total time=   2.2s\n",
      "[CV] END max_depth=6, min_samples_leaf=5, min_samples_split=9; total time=   2.2s\n",
      "[CV] END max_depth=6, min_samples_leaf=6, min_samples_split=5; total time=   2.2s\n",
      "[CV] END max_depth=6, min_samples_leaf=6, min_samples_split=5; total time=   2.1s\n",
      "[CV] END max_depth=6, min_samples_leaf=6, min_samples_split=5; total time=   2.1s\n",
      "[CV] END max_depth=6, min_samples_leaf=6, min_samples_split=5; total time=   2.2s\n",
      "[CV] END max_depth=6, min_samples_leaf=6, min_samples_split=5; total time=   2.2s\n",
      "[CV] END max_depth=6, min_samples_leaf=6, min_samples_split=6; total time=   2.2s\n",
      "[CV] END max_depth=6, min_samples_leaf=6, min_samples_split=6; total time=   2.1s\n",
      "[CV] END max_depth=6, min_samples_leaf=6, min_samples_split=6; total time=   2.2s\n",
      "[CV] END max_depth=6, min_samples_leaf=6, min_samples_split=6; total time=   2.2s\n",
      "[CV] END max_depth=6, min_samples_leaf=6, min_samples_split=6; total time=   2.2s\n",
      "[CV] END max_depth=6, min_samples_leaf=6, min_samples_split=7; total time=   2.1s\n",
      "[CV] END max_depth=6, min_samples_leaf=6, min_samples_split=7; total time=   2.1s\n",
      "[CV] END max_depth=6, min_samples_leaf=6, min_samples_split=7; total time=   2.2s\n",
      "[CV] END max_depth=6, min_samples_leaf=6, min_samples_split=7; total time=   2.2s\n",
      "[CV] END max_depth=6, min_samples_leaf=6, min_samples_split=7; total time=   2.2s\n",
      "[CV] END max_depth=6, min_samples_leaf=6, min_samples_split=8; total time=   2.1s\n",
      "[CV] END max_depth=6, min_samples_leaf=6, min_samples_split=8; total time=   2.2s\n",
      "[CV] END max_depth=6, min_samples_leaf=6, min_samples_split=8; total time=   2.1s\n",
      "[CV] END max_depth=6, min_samples_leaf=6, min_samples_split=8; total time=   2.2s\n",
      "[CV] END max_depth=6, min_samples_leaf=6, min_samples_split=8; total time=   2.2s\n",
      "[CV] END max_depth=6, min_samples_leaf=6, min_samples_split=9; total time=   2.2s\n",
      "[CV] END max_depth=6, min_samples_leaf=6, min_samples_split=9; total time=   2.1s\n",
      "[CV] END max_depth=6, min_samples_leaf=6, min_samples_split=9; total time=   2.1s\n",
      "[CV] END max_depth=6, min_samples_leaf=6, min_samples_split=9; total time=   2.2s\n",
      "[CV] END max_depth=6, min_samples_leaf=6, min_samples_split=9; total time=   2.2s\n",
      "[CV] END max_depth=6, min_samples_leaf=7, min_samples_split=5; total time=   2.1s\n",
      "[CV] END max_depth=6, min_samples_leaf=7, min_samples_split=5; total time=   2.2s\n",
      "[CV] END max_depth=6, min_samples_leaf=7, min_samples_split=5; total time=   2.2s\n",
      "[CV] END max_depth=6, min_samples_leaf=7, min_samples_split=5; total time=   2.2s\n",
      "[CV] END max_depth=6, min_samples_leaf=7, min_samples_split=5; total time=   2.2s\n",
      "[CV] END max_depth=6, min_samples_leaf=7, min_samples_split=6; total time=   2.1s\n",
      "[CV] END max_depth=6, min_samples_leaf=7, min_samples_split=6; total time=   2.2s\n",
      "[CV] END max_depth=6, min_samples_leaf=7, min_samples_split=6; total time=   2.1s\n",
      "[CV] END max_depth=6, min_samples_leaf=7, min_samples_split=6; total time=   2.2s\n",
      "[CV] END max_depth=6, min_samples_leaf=7, min_samples_split=6; total time=   2.2s\n",
      "[CV] END max_depth=6, min_samples_leaf=7, min_samples_split=7; total time=   2.1s\n",
      "[CV] END max_depth=6, min_samples_leaf=7, min_samples_split=7; total time=   2.1s\n",
      "[CV] END max_depth=6, min_samples_leaf=7, min_samples_split=7; total time=   2.1s\n",
      "[CV] END max_depth=6, min_samples_leaf=7, min_samples_split=7; total time=   2.2s\n",
      "[CV] END max_depth=6, min_samples_leaf=7, min_samples_split=7; total time=   2.2s\n",
      "[CV] END max_depth=6, min_samples_leaf=7, min_samples_split=8; total time=   2.1s\n",
      "[CV] END max_depth=6, min_samples_leaf=7, min_samples_split=8; total time=   2.2s\n",
      "[CV] END max_depth=6, min_samples_leaf=7, min_samples_split=8; total time=   2.2s\n",
      "[CV] END max_depth=6, min_samples_leaf=7, min_samples_split=8; total time=   2.2s\n",
      "[CV] END max_depth=6, min_samples_leaf=7, min_samples_split=8; total time=   2.2s\n",
      "[CV] END max_depth=6, min_samples_leaf=7, min_samples_split=9; total time=   2.2s\n",
      "[CV] END max_depth=6, min_samples_leaf=7, min_samples_split=9; total time=   2.2s\n",
      "[CV] END max_depth=6, min_samples_leaf=7, min_samples_split=9; total time=   2.2s\n",
      "[CV] END max_depth=6, min_samples_leaf=7, min_samples_split=9; total time=   2.1s\n",
      "[CV] END max_depth=6, min_samples_leaf=7, min_samples_split=9; total time=   2.2s\n"
     ]
    },
    {
     "name": "stdout",
     "output_type": "stream",
     "text": [
      "[CV] END max_depth=6, min_samples_leaf=8, min_samples_split=5; total time=   2.1s\n",
      "[CV] END max_depth=6, min_samples_leaf=8, min_samples_split=5; total time=   2.2s\n",
      "[CV] END max_depth=6, min_samples_leaf=8, min_samples_split=5; total time=   2.1s\n",
      "[CV] END max_depth=6, min_samples_leaf=8, min_samples_split=5; total time=   2.1s\n",
      "[CV] END max_depth=6, min_samples_leaf=8, min_samples_split=5; total time=   2.2s\n",
      "[CV] END max_depth=6, min_samples_leaf=8, min_samples_split=6; total time=   2.1s\n",
      "[CV] END max_depth=6, min_samples_leaf=8, min_samples_split=6; total time=   2.2s\n",
      "[CV] END max_depth=6, min_samples_leaf=8, min_samples_split=6; total time=   2.2s\n",
      "[CV] END max_depth=6, min_samples_leaf=8, min_samples_split=6; total time=   2.2s\n",
      "[CV] END max_depth=6, min_samples_leaf=8, min_samples_split=6; total time=   2.2s\n",
      "[CV] END max_depth=6, min_samples_leaf=8, min_samples_split=7; total time=   2.2s\n",
      "[CV] END max_depth=6, min_samples_leaf=8, min_samples_split=7; total time=   2.1s\n",
      "[CV] END max_depth=6, min_samples_leaf=8, min_samples_split=7; total time=   2.2s\n",
      "[CV] END max_depth=6, min_samples_leaf=8, min_samples_split=7; total time=   2.2s\n",
      "[CV] END max_depth=6, min_samples_leaf=8, min_samples_split=7; total time=   2.2s\n",
      "[CV] END max_depth=6, min_samples_leaf=8, min_samples_split=8; total time=   2.1s\n",
      "[CV] END max_depth=6, min_samples_leaf=8, min_samples_split=8; total time=   2.1s\n",
      "[CV] END max_depth=6, min_samples_leaf=8, min_samples_split=8; total time=   2.1s\n",
      "[CV] END max_depth=6, min_samples_leaf=8, min_samples_split=8; total time=   2.1s\n",
      "[CV] END max_depth=6, min_samples_leaf=8, min_samples_split=8; total time=   2.2s\n",
      "[CV] END max_depth=6, min_samples_leaf=8, min_samples_split=9; total time=   2.1s\n",
      "[CV] END max_depth=6, min_samples_leaf=8, min_samples_split=9; total time=   2.2s\n",
      "[CV] END max_depth=6, min_samples_leaf=8, min_samples_split=9; total time=   2.2s\n",
      "[CV] END max_depth=6, min_samples_leaf=8, min_samples_split=9; total time=   2.2s\n",
      "[CV] END max_depth=6, min_samples_leaf=8, min_samples_split=9; total time=   2.2s\n",
      "[CV] END max_depth=6, min_samples_leaf=9, min_samples_split=5; total time=   2.1s\n",
      "[CV] END max_depth=6, min_samples_leaf=9, min_samples_split=5; total time=   2.1s\n",
      "[CV] END max_depth=6, min_samples_leaf=9, min_samples_split=5; total time=   2.1s\n",
      "[CV] END max_depth=6, min_samples_leaf=9, min_samples_split=5; total time=   2.2s\n",
      "[CV] END max_depth=6, min_samples_leaf=9, min_samples_split=5; total time=   2.2s\n",
      "[CV] END max_depth=6, min_samples_leaf=9, min_samples_split=6; total time=   2.1s\n",
      "[CV] END max_depth=6, min_samples_leaf=9, min_samples_split=6; total time=   2.1s\n",
      "[CV] END max_depth=6, min_samples_leaf=9, min_samples_split=6; total time=   2.1s\n",
      "[CV] END max_depth=6, min_samples_leaf=9, min_samples_split=6; total time=   2.2s\n",
      "[CV] END max_depth=6, min_samples_leaf=9, min_samples_split=6; total time=   2.2s\n",
      "[CV] END max_depth=6, min_samples_leaf=9, min_samples_split=7; total time=   2.1s\n",
      "[CV] END max_depth=6, min_samples_leaf=9, min_samples_split=7; total time=   2.2s\n",
      "[CV] END max_depth=6, min_samples_leaf=9, min_samples_split=7; total time=   2.2s\n",
      "[CV] END max_depth=6, min_samples_leaf=9, min_samples_split=7; total time=   2.2s\n",
      "[CV] END max_depth=6, min_samples_leaf=9, min_samples_split=7; total time=   2.2s\n",
      "[CV] END max_depth=6, min_samples_leaf=9, min_samples_split=8; total time=   2.1s\n",
      "[CV] END max_depth=6, min_samples_leaf=9, min_samples_split=8; total time=   2.2s\n",
      "[CV] END max_depth=6, min_samples_leaf=9, min_samples_split=8; total time=   2.1s\n",
      "[CV] END max_depth=6, min_samples_leaf=9, min_samples_split=8; total time=   2.2s\n",
      "[CV] END max_depth=6, min_samples_leaf=9, min_samples_split=8; total time=   2.2s\n",
      "[CV] END max_depth=6, min_samples_leaf=9, min_samples_split=9; total time=   2.1s\n",
      "[CV] END max_depth=6, min_samples_leaf=9, min_samples_split=9; total time=   2.1s\n",
      "[CV] END max_depth=6, min_samples_leaf=9, min_samples_split=9; total time=   2.1s\n",
      "[CV] END max_depth=6, min_samples_leaf=9, min_samples_split=9; total time=   2.2s\n",
      "[CV] END max_depth=6, min_samples_leaf=9, min_samples_split=9; total time=   2.2s\n",
      "[CV] END max_depth=7, min_samples_leaf=5, min_samples_split=5; total time=   2.4s\n",
      "[CV] END max_depth=7, min_samples_leaf=5, min_samples_split=5; total time=   2.4s\n",
      "[CV] END max_depth=7, min_samples_leaf=5, min_samples_split=5; total time=   2.4s\n",
      "[CV] END max_depth=7, min_samples_leaf=5, min_samples_split=5; total time=   2.4s\n",
      "[CV] END max_depth=7, min_samples_leaf=5, min_samples_split=5; total time=   2.5s\n",
      "[CV] END max_depth=7, min_samples_leaf=5, min_samples_split=6; total time=   2.4s\n",
      "[CV] END max_depth=7, min_samples_leaf=5, min_samples_split=6; total time=   2.4s\n",
      "[CV] END max_depth=7, min_samples_leaf=5, min_samples_split=6; total time=   2.4s\n",
      "[CV] END max_depth=7, min_samples_leaf=5, min_samples_split=6; total time=   2.4s\n",
      "[CV] END max_depth=7, min_samples_leaf=5, min_samples_split=6; total time=   2.5s\n",
      "[CV] END max_depth=7, min_samples_leaf=5, min_samples_split=7; total time=   2.4s\n",
      "[CV] END max_depth=7, min_samples_leaf=5, min_samples_split=7; total time=   2.4s\n",
      "[CV] END max_depth=7, min_samples_leaf=5, min_samples_split=7; total time=   2.4s\n",
      "[CV] END max_depth=7, min_samples_leaf=5, min_samples_split=7; total time=   2.5s\n",
      "[CV] END max_depth=7, min_samples_leaf=5, min_samples_split=7; total time=   2.5s\n",
      "[CV] END max_depth=7, min_samples_leaf=5, min_samples_split=8; total time=   2.4s\n",
      "[CV] END max_depth=7, min_samples_leaf=5, min_samples_split=8; total time=   2.4s\n",
      "[CV] END max_depth=7, min_samples_leaf=5, min_samples_split=8; total time=   2.4s\n",
      "[CV] END max_depth=7, min_samples_leaf=5, min_samples_split=8; total time=   2.5s\n",
      "[CV] END max_depth=7, min_samples_leaf=5, min_samples_split=8; total time=   2.4s\n",
      "[CV] END max_depth=7, min_samples_leaf=5, min_samples_split=9; total time=   2.4s\n",
      "[CV] END max_depth=7, min_samples_leaf=5, min_samples_split=9; total time=   2.4s\n",
      "[CV] END max_depth=7, min_samples_leaf=5, min_samples_split=9; total time=   2.4s\n",
      "[CV] END max_depth=7, min_samples_leaf=5, min_samples_split=9; total time=   2.4s\n",
      "[CV] END max_depth=7, min_samples_leaf=5, min_samples_split=9; total time=   2.5s\n",
      "[CV] END max_depth=7, min_samples_leaf=6, min_samples_split=5; total time=   2.4s\n",
      "[CV] END max_depth=7, min_samples_leaf=6, min_samples_split=5; total time=   2.4s\n",
      "[CV] END max_depth=7, min_samples_leaf=6, min_samples_split=5; total time=   2.4s\n",
      "[CV] END max_depth=7, min_samples_leaf=6, min_samples_split=5; total time=   2.4s\n",
      "[CV] END max_depth=7, min_samples_leaf=6, min_samples_split=5; total time=   2.5s\n",
      "[CV] END max_depth=7, min_samples_leaf=6, min_samples_split=6; total time=   2.4s\n",
      "[CV] END max_depth=7, min_samples_leaf=6, min_samples_split=6; total time=   2.4s\n",
      "[CV] END max_depth=7, min_samples_leaf=6, min_samples_split=6; total time=   2.4s\n",
      "[CV] END max_depth=7, min_samples_leaf=6, min_samples_split=6; total time=   2.4s\n",
      "[CV] END max_depth=7, min_samples_leaf=6, min_samples_split=6; total time=   2.5s\n",
      "[CV] END max_depth=7, min_samples_leaf=6, min_samples_split=7; total time=   2.4s\n",
      "[CV] END max_depth=7, min_samples_leaf=6, min_samples_split=7; total time=   2.4s\n",
      "[CV] END max_depth=7, min_samples_leaf=6, min_samples_split=7; total time=   2.4s\n",
      "[CV] END max_depth=7, min_samples_leaf=6, min_samples_split=7; total time=   2.4s\n",
      "[CV] END max_depth=7, min_samples_leaf=6, min_samples_split=7; total time=   2.5s\n",
      "[CV] END max_depth=7, min_samples_leaf=6, min_samples_split=8; total time=   2.4s\n",
      "[CV] END max_depth=7, min_samples_leaf=6, min_samples_split=8; total time=   2.4s\n",
      "[CV] END max_depth=7, min_samples_leaf=6, min_samples_split=8; total time=   2.4s\n",
      "[CV] END max_depth=7, min_samples_leaf=6, min_samples_split=8; total time=   2.4s\n",
      "[CV] END max_depth=7, min_samples_leaf=6, min_samples_split=8; total time=   2.5s\n",
      "[CV] END max_depth=7, min_samples_leaf=6, min_samples_split=9; total time=   2.4s\n",
      "[CV] END max_depth=7, min_samples_leaf=6, min_samples_split=9; total time=   2.4s\n",
      "[CV] END max_depth=7, min_samples_leaf=6, min_samples_split=9; total time=   2.5s\n",
      "[CV] END max_depth=7, min_samples_leaf=6, min_samples_split=9; total time=   2.4s\n",
      "[CV] END max_depth=7, min_samples_leaf=6, min_samples_split=9; total time=   2.5s\n"
     ]
    },
    {
     "name": "stdout",
     "output_type": "stream",
     "text": [
      "[CV] END max_depth=7, min_samples_leaf=7, min_samples_split=5; total time=   2.4s\n",
      "[CV] END max_depth=7, min_samples_leaf=7, min_samples_split=5; total time=   2.4s\n",
      "[CV] END max_depth=7, min_samples_leaf=7, min_samples_split=5; total time=   2.4s\n",
      "[CV] END max_depth=7, min_samples_leaf=7, min_samples_split=5; total time=   2.4s\n",
      "[CV] END max_depth=7, min_samples_leaf=7, min_samples_split=5; total time=   2.5s\n",
      "[CV] END max_depth=7, min_samples_leaf=7, min_samples_split=6; total time=   2.4s\n",
      "[CV] END max_depth=7, min_samples_leaf=7, min_samples_split=6; total time=   2.4s\n",
      "[CV] END max_depth=7, min_samples_leaf=7, min_samples_split=6; total time=   2.4s\n",
      "[CV] END max_depth=7, min_samples_leaf=7, min_samples_split=6; total time=   2.4s\n",
      "[CV] END max_depth=7, min_samples_leaf=7, min_samples_split=6; total time=   2.5s\n",
      "[CV] END max_depth=7, min_samples_leaf=7, min_samples_split=7; total time=   2.4s\n",
      "[CV] END max_depth=7, min_samples_leaf=7, min_samples_split=7; total time=   2.4s\n",
      "[CV] END max_depth=7, min_samples_leaf=7, min_samples_split=7; total time=   2.4s\n",
      "[CV] END max_depth=7, min_samples_leaf=7, min_samples_split=7; total time=   2.4s\n",
      "[CV] END max_depth=7, min_samples_leaf=7, min_samples_split=7; total time=   2.5s\n",
      "[CV] END max_depth=7, min_samples_leaf=7, min_samples_split=8; total time=   2.4s\n",
      "[CV] END max_depth=7, min_samples_leaf=7, min_samples_split=8; total time=   2.4s\n",
      "[CV] END max_depth=7, min_samples_leaf=7, min_samples_split=8; total time=   2.4s\n",
      "[CV] END max_depth=7, min_samples_leaf=7, min_samples_split=8; total time=   2.5s\n",
      "[CV] END max_depth=7, min_samples_leaf=7, min_samples_split=8; total time=   2.5s\n",
      "[CV] END max_depth=7, min_samples_leaf=7, min_samples_split=9; total time=   2.3s\n",
      "[CV] END max_depth=7, min_samples_leaf=7, min_samples_split=9; total time=   2.3s\n",
      "[CV] END max_depth=7, min_samples_leaf=7, min_samples_split=9; total time=   2.3s\n",
      "[CV] END max_depth=7, min_samples_leaf=7, min_samples_split=9; total time=   2.3s\n",
      "[CV] END max_depth=7, min_samples_leaf=7, min_samples_split=9; total time=   2.3s\n",
      "[CV] END max_depth=7, min_samples_leaf=8, min_samples_split=5; total time=   2.3s\n",
      "[CV] END max_depth=7, min_samples_leaf=8, min_samples_split=5; total time=   2.3s\n",
      "[CV] END max_depth=7, min_samples_leaf=8, min_samples_split=5; total time=   2.3s\n",
      "[CV] END max_depth=7, min_samples_leaf=8, min_samples_split=5; total time=   2.3s\n",
      "[CV] END max_depth=7, min_samples_leaf=8, min_samples_split=5; total time=   2.3s\n",
      "[CV] END max_depth=7, min_samples_leaf=8, min_samples_split=6; total time=   2.3s\n",
      "[CV] END max_depth=7, min_samples_leaf=8, min_samples_split=6; total time=   2.3s\n",
      "[CV] END max_depth=7, min_samples_leaf=8, min_samples_split=6; total time=   2.3s\n",
      "[CV] END max_depth=7, min_samples_leaf=8, min_samples_split=6; total time=   2.3s\n",
      "[CV] END max_depth=7, min_samples_leaf=8, min_samples_split=6; total time=   2.4s\n",
      "[CV] END max_depth=7, min_samples_leaf=8, min_samples_split=7; total time=   2.3s\n",
      "[CV] END max_depth=7, min_samples_leaf=8, min_samples_split=7; total time=   2.3s\n",
      "[CV] END max_depth=7, min_samples_leaf=8, min_samples_split=7; total time=   2.3s\n",
      "[CV] END max_depth=7, min_samples_leaf=8, min_samples_split=7; total time=   2.3s\n",
      "[CV] END max_depth=7, min_samples_leaf=8, min_samples_split=7; total time=   2.4s\n",
      "[CV] END max_depth=7, min_samples_leaf=8, min_samples_split=8; total time=   2.3s\n",
      "[CV] END max_depth=7, min_samples_leaf=8, min_samples_split=8; total time=   2.3s\n",
      "[CV] END max_depth=7, min_samples_leaf=8, min_samples_split=8; total time=   2.3s\n",
      "[CV] END max_depth=7, min_samples_leaf=8, min_samples_split=8; total time=   2.4s\n",
      "[CV] END max_depth=7, min_samples_leaf=8, min_samples_split=8; total time=   2.4s\n",
      "[CV] END max_depth=7, min_samples_leaf=8, min_samples_split=9; total time=   2.4s\n",
      "[CV] END max_depth=7, min_samples_leaf=8, min_samples_split=9; total time=   2.3s\n",
      "[CV] END max_depth=7, min_samples_leaf=8, min_samples_split=9; total time=   2.3s\n",
      "[CV] END max_depth=7, min_samples_leaf=8, min_samples_split=9; total time=   2.3s\n",
      "[CV] END max_depth=7, min_samples_leaf=8, min_samples_split=9; total time=   2.4s\n",
      "[CV] END max_depth=7, min_samples_leaf=9, min_samples_split=5; total time=   2.2s\n",
      "[CV] END max_depth=7, min_samples_leaf=9, min_samples_split=5; total time=   2.3s\n",
      "[CV] END max_depth=7, min_samples_leaf=9, min_samples_split=5; total time=   2.2s\n",
      "[CV] END max_depth=7, min_samples_leaf=9, min_samples_split=5; total time=   2.3s\n",
      "[CV] END max_depth=7, min_samples_leaf=9, min_samples_split=5; total time=   2.3s\n",
      "[CV] END max_depth=7, min_samples_leaf=9, min_samples_split=6; total time=   2.3s\n",
      "[CV] END max_depth=7, min_samples_leaf=9, min_samples_split=6; total time=   2.3s\n",
      "[CV] END max_depth=7, min_samples_leaf=9, min_samples_split=6; total time=   2.3s\n",
      "[CV] END max_depth=7, min_samples_leaf=9, min_samples_split=6; total time=   2.3s\n",
      "[CV] END max_depth=7, min_samples_leaf=9, min_samples_split=6; total time=   2.4s\n",
      "[CV] END max_depth=7, min_samples_leaf=9, min_samples_split=7; total time=   2.3s\n",
      "[CV] END max_depth=7, min_samples_leaf=9, min_samples_split=7; total time=   2.3s\n",
      "[CV] END max_depth=7, min_samples_leaf=9, min_samples_split=7; total time=   2.3s\n",
      "[CV] END max_depth=7, min_samples_leaf=9, min_samples_split=7; total time=   2.3s\n",
      "[CV] END max_depth=7, min_samples_leaf=9, min_samples_split=7; total time=   2.3s\n",
      "[CV] END max_depth=7, min_samples_leaf=9, min_samples_split=8; total time=   2.3s\n",
      "[CV] END max_depth=7, min_samples_leaf=9, min_samples_split=8; total time=   2.3s\n",
      "[CV] END max_depth=7, min_samples_leaf=9, min_samples_split=8; total time=   2.3s\n",
      "[CV] END max_depth=7, min_samples_leaf=9, min_samples_split=8; total time=   2.3s\n",
      "[CV] END max_depth=7, min_samples_leaf=9, min_samples_split=8; total time=   2.4s\n",
      "[CV] END max_depth=7, min_samples_leaf=9, min_samples_split=9; total time=   2.3s\n",
      "[CV] END max_depth=7, min_samples_leaf=9, min_samples_split=9; total time=   2.3s\n",
      "[CV] END max_depth=7, min_samples_leaf=9, min_samples_split=9; total time=   2.3s\n",
      "[CV] END max_depth=7, min_samples_leaf=9, min_samples_split=9; total time=   2.3s\n",
      "[CV] END max_depth=7, min_samples_leaf=9, min_samples_split=9; total time=   2.3s\n",
      "[CV] END max_depth=8, min_samples_leaf=5, min_samples_split=5; total time=   2.6s\n",
      "[CV] END max_depth=8, min_samples_leaf=5, min_samples_split=5; total time=   2.5s\n",
      "[CV] END max_depth=8, min_samples_leaf=5, min_samples_split=5; total time=   2.6s\n",
      "[CV] END max_depth=8, min_samples_leaf=5, min_samples_split=5; total time=   2.6s\n",
      "[CV] END max_depth=8, min_samples_leaf=5, min_samples_split=5; total time=   2.6s\n",
      "[CV] END max_depth=8, min_samples_leaf=5, min_samples_split=6; total time=   2.5s\n",
      "[CV] END max_depth=8, min_samples_leaf=5, min_samples_split=6; total time=   2.6s\n",
      "[CV] END max_depth=8, min_samples_leaf=5, min_samples_split=6; total time=   2.6s\n",
      "[CV] END max_depth=8, min_samples_leaf=5, min_samples_split=6; total time=   2.6s\n",
      "[CV] END max_depth=8, min_samples_leaf=5, min_samples_split=6; total time=   2.6s\n",
      "[CV] END max_depth=8, min_samples_leaf=5, min_samples_split=7; total time=   2.5s\n",
      "[CV] END max_depth=8, min_samples_leaf=5, min_samples_split=7; total time=   2.6s\n",
      "[CV] END max_depth=8, min_samples_leaf=5, min_samples_split=7; total time=   2.5s\n",
      "[CV] END max_depth=8, min_samples_leaf=5, min_samples_split=7; total time=   2.6s\n",
      "[CV] END max_depth=8, min_samples_leaf=5, min_samples_split=7; total time=   2.6s\n",
      "[CV] END max_depth=8, min_samples_leaf=5, min_samples_split=8; total time=   2.6s\n",
      "[CV] END max_depth=8, min_samples_leaf=5, min_samples_split=8; total time=   2.5s\n",
      "[CV] END max_depth=8, min_samples_leaf=5, min_samples_split=8; total time=   2.5s\n",
      "[CV] END max_depth=8, min_samples_leaf=5, min_samples_split=8; total time=   2.6s\n",
      "[CV] END max_depth=8, min_samples_leaf=5, min_samples_split=8; total time=   2.6s\n",
      "[CV] END max_depth=8, min_samples_leaf=5, min_samples_split=9; total time=   2.4s\n",
      "[CV] END max_depth=8, min_samples_leaf=5, min_samples_split=9; total time=   2.5s\n",
      "[CV] END max_depth=8, min_samples_leaf=5, min_samples_split=9; total time=   2.4s\n",
      "[CV] END max_depth=8, min_samples_leaf=5, min_samples_split=9; total time=   2.4s\n",
      "[CV] END max_depth=8, min_samples_leaf=5, min_samples_split=9; total time=   2.5s\n"
     ]
    },
    {
     "name": "stdout",
     "output_type": "stream",
     "text": [
      "[CV] END max_depth=8, min_samples_leaf=6, min_samples_split=5; total time=   2.3s\n",
      "[CV] END max_depth=8, min_samples_leaf=6, min_samples_split=5; total time=   2.4s\n",
      "[CV] END max_depth=8, min_samples_leaf=6, min_samples_split=5; total time=   2.3s\n",
      "[CV] END max_depth=8, min_samples_leaf=6, min_samples_split=5; total time=   2.4s\n",
      "[CV] END max_depth=8, min_samples_leaf=6, min_samples_split=5; total time=   2.4s\n",
      "[CV] END max_depth=8, min_samples_leaf=6, min_samples_split=6; total time=   2.4s\n",
      "[CV] END max_depth=8, min_samples_leaf=6, min_samples_split=6; total time=   2.3s\n",
      "[CV] END max_depth=8, min_samples_leaf=6, min_samples_split=6; total time=   2.4s\n",
      "[CV] END max_depth=8, min_samples_leaf=6, min_samples_split=6; total time=   2.4s\n",
      "[CV] END max_depth=8, min_samples_leaf=6, min_samples_split=6; total time=   2.4s\n",
      "[CV] END max_depth=8, min_samples_leaf=6, min_samples_split=7; total time=   2.3s\n",
      "[CV] END max_depth=8, min_samples_leaf=6, min_samples_split=7; total time=   2.4s\n",
      "[CV] END max_depth=8, min_samples_leaf=6, min_samples_split=7; total time=   2.3s\n",
      "[CV] END max_depth=8, min_samples_leaf=6, min_samples_split=7; total time=   2.5s\n",
      "[CV] END max_depth=8, min_samples_leaf=6, min_samples_split=7; total time=   2.4s\n",
      "[CV] END max_depth=8, min_samples_leaf=6, min_samples_split=8; total time=   2.4s\n",
      "[CV] END max_depth=8, min_samples_leaf=6, min_samples_split=8; total time=   2.3s\n",
      "[CV] END max_depth=8, min_samples_leaf=6, min_samples_split=8; total time=   2.4s\n",
      "[CV] END max_depth=8, min_samples_leaf=6, min_samples_split=8; total time=   2.3s\n",
      "[CV] END max_depth=8, min_samples_leaf=6, min_samples_split=8; total time=   2.4s\n",
      "[CV] END max_depth=8, min_samples_leaf=6, min_samples_split=9; total time=   2.3s\n",
      "[CV] END max_depth=8, min_samples_leaf=6, min_samples_split=9; total time=   2.4s\n",
      "[CV] END max_depth=8, min_samples_leaf=6, min_samples_split=9; total time=   2.3s\n",
      "[CV] END max_depth=8, min_samples_leaf=6, min_samples_split=9; total time=   2.4s\n",
      "[CV] END max_depth=8, min_samples_leaf=6, min_samples_split=9; total time=   2.4s\n",
      "[CV] END max_depth=8, min_samples_leaf=7, min_samples_split=5; total time=   2.4s\n",
      "[CV] END max_depth=8, min_samples_leaf=7, min_samples_split=5; total time=   2.3s\n",
      "[CV] END max_depth=8, min_samples_leaf=7, min_samples_split=5; total time=   2.4s\n",
      "[CV] END max_depth=8, min_samples_leaf=7, min_samples_split=5; total time=   2.3s\n",
      "[CV] END max_depth=8, min_samples_leaf=7, min_samples_split=5; total time=   2.4s\n",
      "[CV] END max_depth=8, min_samples_leaf=7, min_samples_split=6; total time=   2.3s\n",
      "[CV] END max_depth=8, min_samples_leaf=7, min_samples_split=6; total time=   2.4s\n",
      "[CV] END max_depth=8, min_samples_leaf=7, min_samples_split=6; total time=   2.4s\n",
      "[CV] END max_depth=8, min_samples_leaf=7, min_samples_split=6; total time=   2.4s\n",
      "[CV] END max_depth=8, min_samples_leaf=7, min_samples_split=6; total time=   2.4s\n",
      "[CV] END max_depth=8, min_samples_leaf=7, min_samples_split=7; total time=   2.4s\n",
      "[CV] END max_depth=8, min_samples_leaf=7, min_samples_split=7; total time=   2.4s\n",
      "[CV] END max_depth=8, min_samples_leaf=7, min_samples_split=7; total time=   2.4s\n",
      "[CV] END max_depth=8, min_samples_leaf=7, min_samples_split=7; total time=   2.4s\n",
      "[CV] END max_depth=8, min_samples_leaf=7, min_samples_split=7; total time=   2.4s\n",
      "[CV] END max_depth=8, min_samples_leaf=7, min_samples_split=8; total time=   2.4s\n",
      "[CV] END max_depth=8, min_samples_leaf=7, min_samples_split=8; total time=   2.3s\n",
      "[CV] END max_depth=8, min_samples_leaf=7, min_samples_split=8; total time=   2.4s\n",
      "[CV] END max_depth=8, min_samples_leaf=7, min_samples_split=8; total time=   2.3s\n",
      "[CV] END max_depth=8, min_samples_leaf=7, min_samples_split=8; total time=   2.4s\n",
      "[CV] END max_depth=8, min_samples_leaf=7, min_samples_split=9; total time=   2.3s\n",
      "[CV] END max_depth=8, min_samples_leaf=7, min_samples_split=9; total time=   2.4s\n",
      "[CV] END max_depth=8, min_samples_leaf=7, min_samples_split=9; total time=   2.3s\n",
      "[CV] END max_depth=8, min_samples_leaf=7, min_samples_split=9; total time=   2.6s\n",
      "[CV] END max_depth=8, min_samples_leaf=7, min_samples_split=9; total time=   2.7s\n",
      "[CV] END max_depth=8, min_samples_leaf=8, min_samples_split=5; total time=   2.6s\n",
      "[CV] END max_depth=8, min_samples_leaf=8, min_samples_split=5; total time=   2.6s\n",
      "[CV] END max_depth=8, min_samples_leaf=8, min_samples_split=5; total time=   2.6s\n",
      "[CV] END max_depth=8, min_samples_leaf=8, min_samples_split=5; total time=   2.5s\n",
      "[CV] END max_depth=8, min_samples_leaf=8, min_samples_split=5; total time=   2.6s\n",
      "[CV] END max_depth=8, min_samples_leaf=8, min_samples_split=6; total time=   2.5s\n",
      "[CV] END max_depth=8, min_samples_leaf=8, min_samples_split=6; total time=   2.6s\n",
      "[CV] END max_depth=8, min_samples_leaf=8, min_samples_split=6; total time=   2.5s\n",
      "[CV] END max_depth=8, min_samples_leaf=8, min_samples_split=6; total time=   2.5s\n",
      "[CV] END max_depth=8, min_samples_leaf=8, min_samples_split=6; total time=   2.6s\n",
      "[CV] END max_depth=8, min_samples_leaf=8, min_samples_split=7; total time=   2.5s\n",
      "[CV] END max_depth=8, min_samples_leaf=8, min_samples_split=7; total time=   2.6s\n",
      "[CV] END max_depth=8, min_samples_leaf=8, min_samples_split=7; total time=   2.5s\n",
      "[CV] END max_depth=8, min_samples_leaf=8, min_samples_split=7; total time=   2.6s\n",
      "[CV] END max_depth=8, min_samples_leaf=8, min_samples_split=7; total time=   2.5s\n",
      "[CV] END max_depth=8, min_samples_leaf=8, min_samples_split=8; total time=   2.6s\n",
      "[CV] END max_depth=8, min_samples_leaf=8, min_samples_split=8; total time=   2.5s\n",
      "[CV] END max_depth=8, min_samples_leaf=8, min_samples_split=8; total time=   2.5s\n",
      "[CV] END max_depth=8, min_samples_leaf=8, min_samples_split=8; total time=   2.6s\n",
      "[CV] END max_depth=8, min_samples_leaf=8, min_samples_split=8; total time=   2.6s\n",
      "[CV] END max_depth=8, min_samples_leaf=8, min_samples_split=9; total time=   2.6s\n",
      "[CV] END max_depth=8, min_samples_leaf=8, min_samples_split=9; total time=   2.5s\n",
      "[CV] END max_depth=8, min_samples_leaf=8, min_samples_split=9; total time=   2.6s\n",
      "[CV] END max_depth=8, min_samples_leaf=8, min_samples_split=9; total time=   2.5s\n",
      "[CV] END max_depth=8, min_samples_leaf=8, min_samples_split=9; total time=   2.6s\n",
      "[CV] END max_depth=8, min_samples_leaf=9, min_samples_split=5; total time=   2.5s\n",
      "[CV] END max_depth=8, min_samples_leaf=9, min_samples_split=5; total time=   2.5s\n",
      "[CV] END max_depth=8, min_samples_leaf=9, min_samples_split=5; total time=   2.5s\n",
      "[CV] END max_depth=8, min_samples_leaf=9, min_samples_split=5; total time=   2.6s\n",
      "[CV] END max_depth=8, min_samples_leaf=9, min_samples_split=5; total time=   2.6s\n",
      "[CV] END max_depth=8, min_samples_leaf=9, min_samples_split=6; total time=   2.5s\n",
      "[CV] END max_depth=8, min_samples_leaf=9, min_samples_split=6; total time=   2.6s\n",
      "[CV] END max_depth=8, min_samples_leaf=9, min_samples_split=6; total time=   2.5s\n",
      "[CV] END max_depth=8, min_samples_leaf=9, min_samples_split=6; total time=   2.6s\n",
      "[CV] END max_depth=8, min_samples_leaf=9, min_samples_split=6; total time=   2.6s\n",
      "[CV] END max_depth=8, min_samples_leaf=9, min_samples_split=7; total time=   2.6s\n",
      "[CV] END max_depth=8, min_samples_leaf=9, min_samples_split=7; total time=   2.5s\n",
      "[CV] END max_depth=8, min_samples_leaf=9, min_samples_split=7; total time=   2.6s\n",
      "[CV] END max_depth=8, min_samples_leaf=9, min_samples_split=7; total time=   2.6s\n",
      "[CV] END max_depth=8, min_samples_leaf=9, min_samples_split=7; total time=   2.6s\n",
      "[CV] END max_depth=8, min_samples_leaf=9, min_samples_split=8; total time=   2.5s\n",
      "[CV] END max_depth=8, min_samples_leaf=9, min_samples_split=8; total time=   2.6s\n",
      "[CV] END max_depth=8, min_samples_leaf=9, min_samples_split=8; total time=   2.6s\n",
      "[CV] END max_depth=8, min_samples_leaf=9, min_samples_split=8; total time=   2.6s\n",
      "[CV] END max_depth=8, min_samples_leaf=9, min_samples_split=8; total time=   2.6s\n",
      "[CV] END max_depth=8, min_samples_leaf=9, min_samples_split=9; total time=   2.5s\n",
      "[CV] END max_depth=8, min_samples_leaf=9, min_samples_split=9; total time=   2.6s\n",
      "[CV] END max_depth=8, min_samples_leaf=9, min_samples_split=9; total time=   2.5s\n",
      "[CV] END max_depth=8, min_samples_leaf=9, min_samples_split=9; total time=   2.6s\n",
      "[CV] END max_depth=8, min_samples_leaf=9, min_samples_split=9; total time=   2.6s\n"
     ]
    },
    {
     "name": "stdout",
     "output_type": "stream",
     "text": [
      "[CV] END max_depth=9, min_samples_leaf=5, min_samples_split=5; total time=   2.8s\n",
      "[CV] END max_depth=9, min_samples_leaf=5, min_samples_split=5; total time=   2.8s\n",
      "[CV] END max_depth=9, min_samples_leaf=5, min_samples_split=5; total time=   2.8s\n",
      "[CV] END max_depth=9, min_samples_leaf=5, min_samples_split=5; total time=   2.8s\n",
      "[CV] END max_depth=9, min_samples_leaf=5, min_samples_split=5; total time=   2.8s\n",
      "[CV] END max_depth=9, min_samples_leaf=5, min_samples_split=6; total time=   2.8s\n",
      "[CV] END max_depth=9, min_samples_leaf=5, min_samples_split=6; total time=   2.8s\n",
      "[CV] END max_depth=9, min_samples_leaf=5, min_samples_split=6; total time=   2.7s\n",
      "[CV] END max_depth=9, min_samples_leaf=5, min_samples_split=6; total time=   2.8s\n",
      "[CV] END max_depth=9, min_samples_leaf=5, min_samples_split=6; total time=   2.8s\n",
      "[CV] END max_depth=9, min_samples_leaf=5, min_samples_split=7; total time=   2.8s\n",
      "[CV] END max_depth=9, min_samples_leaf=5, min_samples_split=7; total time=   2.8s\n",
      "[CV] END max_depth=9, min_samples_leaf=5, min_samples_split=7; total time=   2.8s\n",
      "[CV] END max_depth=9, min_samples_leaf=5, min_samples_split=7; total time=   2.8s\n",
      "[CV] END max_depth=9, min_samples_leaf=5, min_samples_split=7; total time=   2.8s\n",
      "[CV] END max_depth=9, min_samples_leaf=5, min_samples_split=8; total time=   2.8s\n",
      "[CV] END max_depth=9, min_samples_leaf=5, min_samples_split=8; total time=   2.8s\n",
      "[CV] END max_depth=9, min_samples_leaf=5, min_samples_split=8; total time=   2.8s\n",
      "[CV] END max_depth=9, min_samples_leaf=5, min_samples_split=8; total time=   2.8s\n",
      "[CV] END max_depth=9, min_samples_leaf=5, min_samples_split=8; total time=   2.8s\n",
      "[CV] END max_depth=9, min_samples_leaf=5, min_samples_split=9; total time=   2.8s\n",
      "[CV] END max_depth=9, min_samples_leaf=5, min_samples_split=9; total time=   2.8s\n",
      "[CV] END max_depth=9, min_samples_leaf=5, min_samples_split=9; total time=   2.8s\n",
      "[CV] END max_depth=9, min_samples_leaf=5, min_samples_split=9; total time=   2.8s\n",
      "[CV] END max_depth=9, min_samples_leaf=5, min_samples_split=9; total time=   2.8s\n",
      "[CV] END max_depth=9, min_samples_leaf=6, min_samples_split=5; total time=   2.8s\n",
      "[CV] END max_depth=9, min_samples_leaf=6, min_samples_split=5; total time=   2.8s\n",
      "[CV] END max_depth=9, min_samples_leaf=6, min_samples_split=5; total time=   2.8s\n",
      "[CV] END max_depth=9, min_samples_leaf=6, min_samples_split=5; total time=   2.8s\n",
      "[CV] END max_depth=9, min_samples_leaf=6, min_samples_split=5; total time=   2.8s\n",
      "[CV] END max_depth=9, min_samples_leaf=6, min_samples_split=6; total time=   2.8s\n",
      "[CV] END max_depth=9, min_samples_leaf=6, min_samples_split=6; total time=   2.8s\n",
      "[CV] END max_depth=9, min_samples_leaf=6, min_samples_split=6; total time=   2.7s\n",
      "[CV] END max_depth=9, min_samples_leaf=6, min_samples_split=6; total time=   2.9s\n",
      "[CV] END max_depth=9, min_samples_leaf=6, min_samples_split=6; total time=   2.8s\n",
      "[CV] END max_depth=9, min_samples_leaf=6, min_samples_split=7; total time=   2.8s\n",
      "[CV] END max_depth=9, min_samples_leaf=6, min_samples_split=7; total time=   2.8s\n",
      "[CV] END max_depth=9, min_samples_leaf=6, min_samples_split=7; total time=   2.8s\n",
      "[CV] END max_depth=9, min_samples_leaf=6, min_samples_split=7; total time=   2.8s\n",
      "[CV] END max_depth=9, min_samples_leaf=6, min_samples_split=7; total time=   2.8s\n",
      "[CV] END max_depth=9, min_samples_leaf=6, min_samples_split=8; total time=   2.8s\n",
      "[CV] END max_depth=9, min_samples_leaf=6, min_samples_split=8; total time=   2.8s\n",
      "[CV] END max_depth=9, min_samples_leaf=6, min_samples_split=8; total time=   2.8s\n",
      "[CV] END max_depth=9, min_samples_leaf=6, min_samples_split=8; total time=   2.8s\n",
      "[CV] END max_depth=9, min_samples_leaf=6, min_samples_split=8; total time=   2.8s\n",
      "[CV] END max_depth=9, min_samples_leaf=6, min_samples_split=9; total time=   2.8s\n",
      "[CV] END max_depth=9, min_samples_leaf=6, min_samples_split=9; total time=   2.7s\n",
      "[CV] END max_depth=9, min_samples_leaf=6, min_samples_split=9; total time=   2.8s\n",
      "[CV] END max_depth=9, min_samples_leaf=6, min_samples_split=9; total time=   2.8s\n",
      "[CV] END max_depth=9, min_samples_leaf=6, min_samples_split=9; total time=   2.8s\n",
      "[CV] END max_depth=9, min_samples_leaf=7, min_samples_split=5; total time=   2.8s\n",
      "[CV] END max_depth=9, min_samples_leaf=7, min_samples_split=5; total time=   2.8s\n",
      "[CV] END max_depth=9, min_samples_leaf=7, min_samples_split=5; total time=   2.8s\n",
      "[CV] END max_depth=9, min_samples_leaf=7, min_samples_split=5; total time=   2.8s\n",
      "[CV] END max_depth=9, min_samples_leaf=7, min_samples_split=5; total time=   2.8s\n",
      "[CV] END max_depth=9, min_samples_leaf=7, min_samples_split=6; total time=   2.8s\n",
      "[CV] END max_depth=9, min_samples_leaf=7, min_samples_split=6; total time=   2.7s\n",
      "[CV] END max_depth=9, min_samples_leaf=7, min_samples_split=6; total time=   2.8s\n",
      "[CV] END max_depth=9, min_samples_leaf=7, min_samples_split=6; total time=   2.7s\n",
      "[CV] END max_depth=9, min_samples_leaf=7, min_samples_split=6; total time=   2.8s\n",
      "[CV] END max_depth=9, min_samples_leaf=7, min_samples_split=7; total time=   2.8s\n",
      "[CV] END max_depth=9, min_samples_leaf=7, min_samples_split=7; total time=   2.7s\n",
      "[CV] END max_depth=9, min_samples_leaf=7, min_samples_split=7; total time=   2.8s\n",
      "[CV] END max_depth=9, min_samples_leaf=7, min_samples_split=7; total time=   2.8s\n",
      "[CV] END max_depth=9, min_samples_leaf=7, min_samples_split=7; total time=   2.8s\n",
      "[CV] END max_depth=9, min_samples_leaf=7, min_samples_split=8; total time=   2.8s\n",
      "[CV] END max_depth=9, min_samples_leaf=7, min_samples_split=8; total time=   2.7s\n",
      "[CV] END max_depth=9, min_samples_leaf=7, min_samples_split=8; total time=   2.8s\n",
      "[CV] END max_depth=9, min_samples_leaf=7, min_samples_split=8; total time=   2.8s\n",
      "[CV] END max_depth=9, min_samples_leaf=7, min_samples_split=8; total time=   2.8s\n",
      "[CV] END max_depth=9, min_samples_leaf=7, min_samples_split=9; total time=   2.7s\n",
      "[CV] END max_depth=9, min_samples_leaf=7, min_samples_split=9; total time=   2.8s\n",
      "[CV] END max_depth=9, min_samples_leaf=7, min_samples_split=9; total time=   2.8s\n",
      "[CV] END max_depth=9, min_samples_leaf=7, min_samples_split=9; total time=   2.8s\n",
      "[CV] END max_depth=9, min_samples_leaf=7, min_samples_split=9; total time=   2.9s\n",
      "[CV] END max_depth=9, min_samples_leaf=8, min_samples_split=5; total time=   2.8s\n",
      "[CV] END max_depth=9, min_samples_leaf=8, min_samples_split=5; total time=   2.7s\n",
      "[CV] END max_depth=9, min_samples_leaf=8, min_samples_split=5; total time=   2.8s\n",
      "[CV] END max_depth=9, min_samples_leaf=8, min_samples_split=5; total time=   2.7s\n",
      "[CV] END max_depth=9, min_samples_leaf=8, min_samples_split=5; total time=   2.9s\n",
      "[CV] END max_depth=9, min_samples_leaf=8, min_samples_split=6; total time=   2.7s\n",
      "[CV] END max_depth=9, min_samples_leaf=8, min_samples_split=6; total time=   2.7s\n",
      "[CV] END max_depth=9, min_samples_leaf=8, min_samples_split=6; total time=   2.8s\n",
      "[CV] END max_depth=9, min_samples_leaf=8, min_samples_split=6; total time=   2.8s\n",
      "[CV] END max_depth=9, min_samples_leaf=8, min_samples_split=6; total time=   2.8s\n",
      "[CV] END max_depth=9, min_samples_leaf=8, min_samples_split=7; total time=   2.8s\n",
      "[CV] END max_depth=9, min_samples_leaf=8, min_samples_split=7; total time=   2.8s\n",
      "[CV] END max_depth=9, min_samples_leaf=8, min_samples_split=7; total time=   2.8s\n",
      "[CV] END max_depth=9, min_samples_leaf=8, min_samples_split=7; total time=   2.7s\n",
      "[CV] END max_depth=9, min_samples_leaf=8, min_samples_split=7; total time=   2.8s\n",
      "[CV] END max_depth=9, min_samples_leaf=8, min_samples_split=8; total time=   2.7s\n",
      "[CV] END max_depth=9, min_samples_leaf=8, min_samples_split=8; total time=   2.8s\n",
      "[CV] END max_depth=9, min_samples_leaf=8, min_samples_split=8; total time=   2.7s\n",
      "[CV] END max_depth=9, min_samples_leaf=8, min_samples_split=8; total time=   2.7s\n",
      "[CV] END max_depth=9, min_samples_leaf=8, min_samples_split=8; total time=   2.8s\n",
      "[CV] END max_depth=9, min_samples_leaf=8, min_samples_split=9; total time=   2.7s\n",
      "[CV] END max_depth=9, min_samples_leaf=8, min_samples_split=9; total time=   2.7s\n",
      "[CV] END max_depth=9, min_samples_leaf=8, min_samples_split=9; total time=   2.7s\n",
      "[CV] END max_depth=9, min_samples_leaf=8, min_samples_split=9; total time=   2.8s\n",
      "[CV] END max_depth=9, min_samples_leaf=8, min_samples_split=9; total time=   2.8s\n"
     ]
    },
    {
     "name": "stdout",
     "output_type": "stream",
     "text": [
      "[CV] END max_depth=9, min_samples_leaf=9, min_samples_split=5; total time=   2.7s\n",
      "[CV] END max_depth=9, min_samples_leaf=9, min_samples_split=5; total time=   2.8s\n",
      "[CV] END max_depth=9, min_samples_leaf=9, min_samples_split=5; total time=   2.7s\n",
      "[CV] END max_depth=9, min_samples_leaf=9, min_samples_split=5; total time=   2.8s\n",
      "[CV] END max_depth=9, min_samples_leaf=9, min_samples_split=5; total time=   2.8s\n",
      "[CV] END max_depth=9, min_samples_leaf=9, min_samples_split=6; total time=   2.7s\n",
      "[CV] END max_depth=9, min_samples_leaf=9, min_samples_split=6; total time=   2.7s\n",
      "[CV] END max_depth=9, min_samples_leaf=9, min_samples_split=6; total time=   2.7s\n",
      "[CV] END max_depth=9, min_samples_leaf=9, min_samples_split=6; total time=   2.8s\n",
      "[CV] END max_depth=9, min_samples_leaf=9, min_samples_split=6; total time=   2.7s\n",
      "[CV] END max_depth=9, min_samples_leaf=9, min_samples_split=7; total time=   2.7s\n",
      "[CV] END max_depth=9, min_samples_leaf=9, min_samples_split=7; total time=   2.8s\n",
      "[CV] END max_depth=9, min_samples_leaf=9, min_samples_split=7; total time=   2.7s\n",
      "[CV] END max_depth=9, min_samples_leaf=9, min_samples_split=7; total time=   2.7s\n",
      "[CV] END max_depth=9, min_samples_leaf=9, min_samples_split=7; total time=   2.7s\n",
      "[CV] END max_depth=9, min_samples_leaf=9, min_samples_split=8; total time=   2.7s\n",
      "[CV] END max_depth=9, min_samples_leaf=9, min_samples_split=8; total time=   2.7s\n",
      "[CV] END max_depth=9, min_samples_leaf=9, min_samples_split=8; total time=   2.7s\n",
      "[CV] END max_depth=9, min_samples_leaf=9, min_samples_split=8; total time=   2.8s\n",
      "[CV] END max_depth=9, min_samples_leaf=9, min_samples_split=8; total time=   2.7s\n",
      "[CV] END max_depth=9, min_samples_leaf=9, min_samples_split=9; total time=   2.8s\n",
      "[CV] END max_depth=9, min_samples_leaf=9, min_samples_split=9; total time=   2.7s\n",
      "[CV] END max_depth=9, min_samples_leaf=9, min_samples_split=9; total time=   2.7s\n",
      "[CV] END max_depth=9, min_samples_leaf=9, min_samples_split=9; total time=   2.7s\n",
      "[CV] END max_depth=9, min_samples_leaf=9, min_samples_split=9; total time=   2.8s\n"
     ]
    },
    {
     "data": {
      "text/plain": [
       "GridSearchCV(cv=5, estimator=RandomForestRegressor(random_state=17),\n",
       "             param_grid=[{'max_depth': range(5, 10),\n",
       "                          'min_samples_leaf': range(5, 10),\n",
       "                          'min_samples_split': range(5, 10)}],\n",
       "             return_train_score=True, scoring='neg_mean_squared_error',\n",
       "             verbose=2)"
      ]
     },
     "execution_count": 158,
     "metadata": {},
     "output_type": "execute_result"
    }
   ],
   "source": [
    "model = RandomForestRegressor(n_estimators=100, random_state=17)\n",
    "\n",
    "regs = Pipeline(steps = [('regressor', model)])\n",
    "cv = 5\n",
    "scoring = 'neg_mean_squared_error'\n",
    "max_depth_range = range(5, 10)\n",
    "min_samples_split_range = range(5, 10)\n",
    "min_samples_leaf_range = range(5, 10)\n",
    "\n",
    "param_grid = [{\"max_depth\":max_depth_range, \"min_samples_split\":min_samples_split_range, \"min_samples_leaf\":min_samples_leaf_range}]\n",
    "\n",
    "## 최적화\n",
    "gs = GridSearchCV(model, param_grid = param_grid, cv=cv,\n",
    "                 scoring = scoring, return_train_score=True, verbose=2)\n",
    "gs.fit(X_train_scaled, y_train)"
   ]
  },
  {
   "cell_type": "code",
   "execution_count": 173,
   "id": "0ec96a99",
   "metadata": {
    "ExecuteTime": {
     "end_time": "2022-03-12T15:07:48.834781Z",
     "start_time": "2022-03-12T15:07:48.819779Z"
    }
   },
   "outputs": [],
   "source": [
    "train_scores_mean = gs.cv_results_['mean_train_score']\n",
    "train_scores_std = gs.cv_results_['std_train_score']\n",
    "test_scores_mean = gs.cv_results_['mean_test_score']\n",
    "test_scores_std = gs.cv_results_['std_test_score']\n",
    "\n",
    "best_params = gs.cv_results_['params'][np.argmax(test_scores_mean)]\n",
    "\n",
    "best_depth = best_params['max_depth']\n",
    "best_split = best_params['min_samples_split']\n",
    "best_leaf = best_params['min_samples_leaf']"
   ]
  },
  {
   "cell_type": "code",
   "execution_count": 217,
   "id": "04d068fb",
   "metadata": {
    "ExecuteTime": {
     "end_time": "2022-03-12T15:23:16.353460Z",
     "start_time": "2022-03-12T15:23:16.338449Z"
    }
   },
   "outputs": [
    {
     "name": "stdout",
     "output_type": "stream",
     "text": [
      "best_depth: 6, best_split: 5, best_leaf: 9\n"
     ]
    }
   ],
   "source": [
    "print(f\"best_depth: {best_depth}, best_split: {best_split}, best_leaf: {best_leaf}\")"
   ]
  },
  {
   "cell_type": "code",
   "execution_count": 218,
   "id": "2b8d3cca",
   "metadata": {
    "ExecuteTime": {
     "end_time": "2022-03-12T15:23:19.491164Z",
     "start_time": "2022-03-12T15:23:16.778509Z"
    }
   },
   "outputs": [
    {
     "data": {
      "text/plain": [
       "RandomForestRegressor(max_depth=6, min_samples_leaf=9, min_samples_split=5,\n",
       "                      random_state=17)"
      ]
     },
     "execution_count": 218,
     "metadata": {},
     "output_type": "execute_result"
    }
   ],
   "source": [
    "## 모델확정\n",
    "model = RandomForestRegressor(n_estimators=100, max_depth=best_depth, min_samples_split=best_split, min_samples_leaf=best_leaf, random_state=17)\n",
    "model.fit(X_train_scaled, y_train)"
   ]
  },
  {
   "cell_type": "code",
   "execution_count": 219,
   "id": "4cfbf020",
   "metadata": {
    "ExecuteTime": {
     "end_time": "2022-03-12T15:23:19.716225Z",
     "start_time": "2022-03-12T15:23:19.613202Z"
    }
   },
   "outputs": [],
   "source": [
    "fit_value = model.predict(X_train_scaled)\n",
    "pred_value = model.predict(X_test_scaled)"
   ]
  },
  {
   "cell_type": "code",
   "execution_count": 220,
   "id": "afd302a0",
   "metadata": {
    "ExecuteTime": {
     "end_time": "2022-03-12T15:23:20.580023Z",
     "start_time": "2022-03-12T15:23:20.572031Z"
    }
   },
   "outputs": [],
   "source": [
    "fit_df = pd.DataFrame(y_train)\n",
    "fit_df['hat'] = fit_value\n",
    "pred_df = pd.DataFrame(y_test)\n",
    "pred_df['hat'] = pred_value\n",
    "result_df = pd.concat([fit_df, pred_df]).sort_index()"
   ]
  },
  {
   "cell_type": "markdown",
   "id": "aacb7047",
   "metadata": {},
   "source": [
    "## 모형 성능평가"
   ]
  },
  {
   "cell_type": "code",
   "execution_count": 221,
   "id": "2d182ea0",
   "metadata": {
    "ExecuteTime": {
     "end_time": "2022-03-12T15:23:21.700191Z",
     "start_time": "2022-03-12T15:23:21.690199Z"
    }
   },
   "outputs": [
    {
     "data": {
      "text/plain": [
       "413.44768053381404"
      ]
     },
     "execution_count": 221,
     "metadata": {},
     "output_type": "execute_result"
    }
   ],
   "source": [
    "mean_squared_error(fit_df[fit_df.columns[0]], fit_df['hat'])"
   ]
  },
  {
   "cell_type": "code",
   "execution_count": 222,
   "id": "8c15e51c",
   "metadata": {
    "ExecuteTime": {
     "end_time": "2022-03-12T15:23:22.352673Z",
     "start_time": "2022-03-12T15:23:22.338660Z"
    }
   },
   "outputs": [
    {
     "data": {
      "text/plain": [
       "669.7216015611672"
      ]
     },
     "execution_count": 222,
     "metadata": {},
     "output_type": "execute_result"
    }
   ],
   "source": [
    "mean_squared_error(pred_df[pred_df.columns[0]], pred_df['hat'])"
   ]
  },
  {
   "cell_type": "code",
   "execution_count": 223,
   "id": "91e77d9f",
   "metadata": {
    "ExecuteTime": {
     "end_time": "2022-03-12T15:23:23.028120Z",
     "start_time": "2022-03-12T15:23:23.011104Z"
    }
   },
   "outputs": [
    {
     "data": {
      "text/plain": [
       "12.084684470773853"
      ]
     },
     "execution_count": 223,
     "metadata": {},
     "output_type": "execute_result"
    }
   ],
   "source": [
    "abs(fit_df['hat'] - fit_df[fit_df.columns[0]]).mean()"
   ]
  },
  {
   "cell_type": "code",
   "execution_count": 224,
   "id": "40b7c4d7",
   "metadata": {
    "ExecuteTime": {
     "end_time": "2022-03-12T15:23:26.100853Z",
     "start_time": "2022-03-12T15:23:26.083849Z"
    }
   },
   "outputs": [
    {
     "data": {
      "text/plain": [
       "18.21326106804522"
      ]
     },
     "execution_count": 224,
     "metadata": {},
     "output_type": "execute_result"
    }
   ],
   "source": [
    "abs(pred_df['hat'] - pred_df[pred_df.columns[0]]).mean()"
   ]
  },
  {
   "cell_type": "code",
   "execution_count": 225,
   "id": "f4ca26df",
   "metadata": {
    "ExecuteTime": {
     "end_time": "2022-03-12T15:23:26.976480Z",
     "start_time": "2022-03-12T15:23:26.604056Z"
    }
   },
   "outputs": [
    {
     "data": {
      "text/plain": [
       "<AxesSubplot:xlabel='time'>"
      ]
     },
     "execution_count": 225,
     "metadata": {},
     "output_type": "execute_result"
    },
    {
     "data": {
      "image/png": "[encoded data removed]",
      "text/plain": [
       "<Figure size 936x504 with 1 Axes>"
      ]
     },
     "metadata": {
      "needs_background": "light"
     },
     "output_type": "display_data"
    }
   ],
   "source": [
    "result_df.plot()"
   ]
  },
  {
   "cell_type": "code",
   "execution_count": 226,
   "id": "587efa5e",
   "metadata": {
    "ExecuteTime": {
     "end_time": "2022-03-12T15:23:29.446950Z",
     "start_time": "2022-03-12T15:23:29.188875Z"
    }
   },
   "outputs": [
    {
     "data": {
      "text/plain": [
       "<AxesSubplot:xlabel='time'>"
      ]
     },
     "execution_count": 226,
     "metadata": {},
     "output_type": "execute_result"
    },
    {
     "data": {
      "image/png": "[encoded data removed]",
      "text/plain": [
       "<Figure size 936x504 with 1 Axes>"
      ]
     },
     "metadata": {
      "needs_background": "light"
     },
     "output_type": "display_data"
    }
   ],
   "source": [
    "## testset\n",
    "result_df[test_split:].plot()"
   ]
  },
  {
   "cell_type": "code",
   "execution_count": 227,
   "id": "4679cbcd",
   "metadata": {
    "ExecuteTime": {
     "end_time": "2022-03-12T15:23:34.588722Z",
     "start_time": "2022-03-12T15:23:34.572718Z"
    }
   },
   "outputs": [],
   "source": [
    "## 모형성능이 준수할 것으로 보임"
   ]
  },
  {
   "cell_type": "markdown",
   "id": "46c67e81",
   "metadata": {},
   "source": [
    "## Save"
   ]
  },
  {
   "cell_type": "code",
   "execution_count": 229,
   "id": "40f8df00",
   "metadata": {
    "ExecuteTime": {
     "end_time": "2022-03-12T15:23:50.335479Z",
     "start_time": "2022-03-12T15:23:50.214445Z"
    }
   },
   "outputs": [],
   "source": [
    "## 마지막 1포인트 예측값 추가\n",
    "result_df.loc['2020-09-24 16:00:00'] = [ 0 , model.predict(X_add_scaled)[0]]"
   ]
  },
  {
   "cell_type": "code",
   "execution_count": 230,
   "id": "7756c6a4",
   "metadata": {
    "ExecuteTime": {
     "end_time": "2022-03-12T15:23:52.185281Z",
     "start_time": "2022-03-12T15:23:52.046986Z"
    }
   },
   "outputs": [],
   "source": [
    "result_df.to_csv('data/result_ML.csv')"
   ]
  },
  {
   "cell_type": "code",
   "execution_count": null,
   "id": "ac00655e",
   "metadata": {},
   "outputs": [],
   "source": []
  }
 ],
 "metadata": {
  "hide_input": false,
  "kernelspec": {
   "display_name": "Python 3 (ipykernel)",
   "language": "python",
   "name": "python3"
  },
  "language_info": {
   "codemirror_mode": {
    "name": "ipython",
    "version": 3
   },
   "file_extension": ".py",
   "mimetype": "text/x-python",
   "name": "python",
   "nbconvert_exporter": "python",
   "pygments_lexer": "ipython3",
   "version": "3.9.7"
  },
  "toc": {
   "base_numbering": 1,
   "nav_menu": {},
   "number_sections": true,
   "sideBar": true,
   "skip_h1_title": false,
   "title_cell": "Table of Contents",
   "title_sidebar": "Contents",
   "toc_cell": false,
   "toc_position": {},
   "toc_section_display": true,
   "toc_window_display": false
  },
  "varInspector": {
   "cols": {
    "lenName": 16,
    "lenType": 16,
    "lenVar": 40
   },
   "kernels_config": {
    "python": {
     "delete_cmd_postfix": "",
     "delete_cmd_prefix": "del ",
     "library": "var_list.py",
     "varRefreshCmd": "print(var_dic_list())"
    },
    "r": {
     "delete_cmd_postfix": ") ",
     "delete_cmd_prefix": "rm(",
     "library": "var_list.r",
     "varRefreshCmd": "cat(var_dic_list()) "
    }
   },
   "types_to_exclude": [
    "module",
    "function",
    "builtin_function_or_method",
    "instance",
    "_Feature"
   ],
   "window_display": false
  }
 },
 "nbformat": 4,
 "nbformat_minor": 5
}
