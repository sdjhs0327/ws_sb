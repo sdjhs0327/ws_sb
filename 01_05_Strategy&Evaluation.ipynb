{
 "cells": [
  {
   "cell_type": "code",
   "execution_count": 86,
   "metadata": {
    "ExecuteTime": {
     "end_time": "2022-03-13T03:45:20.908307Z",
     "start_time": "2022-03-13T03:45:20.368946Z"
    }
   },
   "outputs": [],
   "source": [
    "import pandas as pd\n",
    "import warnings\n",
    "warnings.filterwarnings('ignore')\n",
    "import numpy as np\n",
    "import math\n",
    "import datetime as dt"
   ]
  },
  {
   "cell_type": "code",
   "execution_count": 87,
   "metadata": {
    "ExecuteTime": {
     "end_time": "2022-03-13T03:45:22.123632Z",
     "start_time": "2022-03-13T03:45:20.924294Z"
    }
   },
   "outputs": [],
   "source": [
    "## 시각화\n",
    "import matplotlib.pyplot as plt\n",
    "import seaborn as sns\n",
    "\n",
    "plt.rcParams[\"figure.figsize\"] = (13,7)"
   ]
  },
  {
   "cell_type": "code",
   "execution_count": 88,
   "metadata": {
    "ExecuteTime": {
     "end_time": "2022-03-13T03:45:22.153633Z",
     "start_time": "2022-03-13T03:45:22.139620Z"
    }
   },
   "outputs": [],
   "source": [
    "## 평가모듈\n",
    "import evaluation_module as evm"
   ]
  },
  {
   "cell_type": "markdown",
   "metadata": {},
   "source": [
    "## Data"
   ]
  },
  {
   "cell_type": "code",
   "execution_count": 159,
   "metadata": {
    "ExecuteTime": {
     "end_time": "2022-03-13T03:45:22.243659Z",
     "start_time": "2022-03-13T03:45:22.172626Z"
    }
   },
   "outputs": [],
   "source": [
    "df_ori = pd.read_csv('data/data_prep.csv')\n",
    "df_ori['time'] = pd.to_datetime(df_ori['time'])\n",
    "df_ori = df_ori.set_index('time')"
   ]
  },
  {
   "cell_type": "code",
   "execution_count": 160,
   "metadata": {
    "ExecuteTime": {
     "end_time": "2022-03-13T03:45:22.318676Z",
     "start_time": "2022-03-13T03:45:22.261647Z"
    }
   },
   "outputs": [],
   "source": [
    "ML_res = pd.read_csv('data/result_ML.csv')\n",
    "ML_res['time'] = pd.to_datetime(ML_res['time'])\n",
    "ML_res = ML_res.set_index('time')"
   ]
  },
  {
   "cell_type": "code",
   "execution_count": 161,
   "metadata": {
    "ExecuteTime": {
     "end_time": "2022-03-13T04:00:37.876174Z",
     "start_time": "2022-03-13T04:00:37.859170Z"
    }
   },
   "outputs": [],
   "source": [
    "dataset = df_ori.copy()\n",
    "dataset['hat'] = ML_res['hat'].dropna()\n",
    "dataset = dataset.dropna()\n",
    "\n",
    "dataset['spread_ratio'] = dataset['spread']/dataset['vwap_near']"
   ]
  },
  {
   "cell_type": "code",
   "execution_count": 162,
   "metadata": {
    "ExecuteTime": {
     "end_time": "2022-03-13T04:01:22.435070Z",
     "start_time": "2022-03-13T04:01:22.417066Z"
    }
   },
   "outputs": [],
   "source": [
    "## 이론적 스프레드비율\n",
    "temp = dataset.drop_duplicates(subset='epi_no', keep='last')\n",
    "cri_min = temp['spread_ratio'].min()\n",
    "cri_max = temp['spread_ratio'].max()"
   ]
  },
  {
   "cell_type": "code",
   "execution_count": 163,
   "metadata": {},
   "outputs": [],
   "source": [
    "## 룰베이스 BM용\n",
    "temp_mean = dataset['spread_ratio'][:test_split].mean()\n",
    "temp_std = dataset['spread_ratio'][:test_split].std()\n",
    "\n",
    "cri_ustd = temp_mean + 1*temp_std\n",
    "cri_lstd = temp_mean - 1*temp_std"
   ]
  },
  {
   "cell_type": "code",
   "execution_count": 164,
   "metadata": {
    "ExecuteTime": {
     "end_time": "2022-03-13T04:01:25.073877Z",
     "start_time": "2022-03-13T04:01:25.063884Z"
    }
   },
   "outputs": [
    {
     "data": {
      "text/plain": [
       "Timestamp('2019-12-27 12:00:00')"
      ]
     },
     "execution_count": 164,
     "metadata": {},
     "output_type": "execute_result"
    }
   ],
   "source": [
    "## Test index\n",
    "test_split = df_ori[df_ori['epi_no'] > 8].index[0]\n",
    "test_split"
   ]
  },
  {
   "cell_type": "markdown",
   "metadata": {},
   "source": [
    "## 전략구현"
   ]
  },
  {
   "cell_type": "markdown",
   "metadata": {},
   "source": [
    "* 예측 스프레드가 현재 스프레드보다 낮을 때는 매도포지션\n",
    "* 예측 스프레드가 현재 스프레드보다 높을 때는 매수포지션\n",
    "* 당분기물 만기시점에는 중립\n",
    "* pre_pos: 전기 포지션  \n",
    "  - 전기 포지션을 표시하여 전기 표지션을 통해서 현재 얻은 수익을 산출하기 위함\n",
    "* 주의사항: 거래비용은 고려하지 않음"
   ]
  },
  {
   "cell_type": "markdown",
   "metadata": {},
   "source": [
    "* 전략 리스트  \n",
    "  - ML_p1: 스프레드매도 기회만 활용하는 전략\n",
    "  - ML_p2: 스프레드매수매도 기회를 모두 활용하는 전략\n",
    "  - ML_p2_v2: 이론적(역사적) 스프레드비율 외구간에서만 매수매도 기회를 활용하는 전략\n",
    "* Bench Mark  \n",
    "  - 당분기 선물 Buy&Hold\n",
    "  - 스프레드비율 2표준편차 외구간에서만 매수매도하는 전략"
   ]
  },
  {
   "cell_type": "code",
   "execution_count": 165,
   "metadata": {
    "ExecuteTime": {
     "end_time": "2022-03-13T04:05:13.222889Z",
     "start_time": "2022-03-13T04:05:13.195999Z"
    }
   },
   "outputs": [],
   "source": [
    "dataset['pre_pos'] = 0\n",
    "dataset['pre_pos'][dataset['hat'].shift(-1) > dataset['spread']] = 1\n",
    "dataset['pre_pos'][dataset['hat'].shift(-1) < dataset['spread']] = -1\n",
    "dataset['pre_pos'][dataset['duetime'] == 0] = 0\n",
    "dataset['pre_pos'] = dataset['pre_pos'].shift(1)"
   ]
  },
  {
   "cell_type": "code",
   "execution_count": 166,
   "metadata": {},
   "outputs": [],
   "source": [
    "dataset['pre_pos_BM2'] = 0\n",
    "dataset['pre_pos_BM2'][dataset['spread_ratio'] > cri_ustd] = -1\n",
    "dataset['pre_pos_BM2'][dataset['spread_ratio'] < cri_ustd] = 1\n",
    "dataset['pre_pos_BM2'] = dataset['pre_pos_BM2'].shift(1)"
   ]
  },
  {
   "cell_type": "code",
   "execution_count": 167,
   "metadata": {
    "ExecuteTime": {
     "end_time": "2022-03-13T04:05:13.372935Z",
     "start_time": "2022-03-13T04:05:13.362922Z"
    }
   },
   "outputs": [],
   "source": [
    "## 항상 매수포지션일 때의 수익률\n",
    "## 스프레드차익/(매수증거금+매도증거금)\n",
    "dataset['rets'] = ((dataset['spread'] - dataset['spread'].shift(1))/\n",
    "                   (dataset['vwap_near']+dataset['vwap_longer']).shift(1))"
   ]
  },
  {
   "cell_type": "code",
   "execution_count": 168,
   "metadata": {
    "ExecuteTime": {
     "end_time": "2022-03-13T04:05:13.928056Z",
     "start_time": "2022-03-13T04:05:13.899049Z"
    }
   },
   "outputs": [],
   "source": [
    "## 예측모형을 활용한 양측 매매 전략\n",
    "dataset['ML_p2'] = dataset['rets'] * dataset['pre_pos']\n",
    "\n",
    "## 예측모형을 활용한 단측 매도 전략\n",
    "## 오직 매도기회에 매도만하는 전략\n",
    "dataset['ML_p1'] = dataset['ML_p2'].copy()\n",
    "dataset['ML_p1'][dataset['pre_pos']>= 0] = 0\n",
    "\n",
    "## 이론적 스프레드비율을 임계점으로 활용하는 전략\n",
    "dataset['ML_p2_v2'] = dataset['ML_p2'].copy()\n",
    "dataset['ML_p2_v2'][(dataset['spread_ratio'].shift(1) <= cri_max)&(dataset['spread_ratio'].shift(1) >= cri_min)] = 0\n",
    "\n",
    "## BM1: 당분기물 Buy&Hold 롤오버는 고려하지 않음\n",
    "dataset['BM1'] = dataset['vwap_near'].pct_change()\n",
    "\n",
    "## BM2 Spread 비율이 2표준편차를 초과할때만 매도매수\n",
    "dataset['BM2'] = dataset['rets'] * dataset['pre_pos_BM2']"
   ]
  },
  {
   "cell_type": "markdown",
   "metadata": {},
   "source": [
    "## 전략 평가"
   ]
  },
  {
   "cell_type": "code",
   "execution_count": 169,
   "metadata": {
    "ExecuteTime": {
     "end_time": "2022-03-13T04:05:44.329427Z",
     "start_time": "2022-03-13T04:05:44.319414Z"
    }
   },
   "outputs": [],
   "source": [
    "rets_ML_p1 = dataset['ML_p1'].dropna()\n",
    "rets_ML_p2 = dataset['ML_p2'].dropna()\n",
    "rets_ML_p2_v2 = dataset['ML_p2_v2'].dropna()\n",
    "rets_BM1 = dataset['BM1'].dropna()\n",
    "rets_BM2 = dataset['BM2'].dropna()"
   ]
  },
  {
   "cell_type": "code",
   "execution_count": 170,
   "metadata": {
    "ExecuteTime": {
     "end_time": "2022-03-13T04:05:51.541043Z",
     "start_time": "2022-03-13T04:05:51.279536Z"
    }
   },
   "outputs": [],
   "source": [
    "df_rets = pd.DataFrame([rets_ML_p1, rets_ML_p2, rets_ML_p2_v2, rets_BM1, rets_BM2]).T"
   ]
  },
  {
   "cell_type": "markdown",
   "metadata": {},
   "source": [
    "### 평가 요약"
   ]
  },
  {
   "cell_type": "code",
   "execution_count": 171,
   "metadata": {
    "ExecuteTime": {
     "end_time": "2022-03-13T04:05:52.813737Z",
     "start_time": "2022-03-13T04:05:52.784731Z"
    }
   },
   "outputs": [
    {
     "name": "stdout",
     "output_type": "stream",
     "text": [
      "전기간 성능평가\n"
     ]
    },
    {
     "data": {
      "text/html": [
       "<div>\n",
       "<style scoped>\n",
       "    .dataframe tbody tr th:only-of-type {\n",
       "        vertical-align: middle;\n",
       "    }\n",
       "\n",
       "    .dataframe tbody tr th {\n",
       "        vertical-align: top;\n",
       "    }\n",
       "\n",
       "    .dataframe thead th {\n",
       "        text-align: right;\n",
       "    }\n",
       "</style>\n",
       "<table border=\"1\" class=\"dataframe\">\n",
       "  <thead>\n",
       "    <tr style=\"text-align: right;\">\n",
       "      <th></th>\n",
       "      <th>Return</th>\n",
       "      <th>Volatility</th>\n",
       "      <th>Sharpe</th>\n",
       "      <th>MDD</th>\n",
       "      <th>Win</th>\n",
       "    </tr>\n",
       "  </thead>\n",
       "  <tbody>\n",
       "    <tr>\n",
       "      <th>ML_p1</th>\n",
       "      <td>0.2326</td>\n",
       "      <td>0.0836</td>\n",
       "      <td>2.7830</td>\n",
       "      <td>-0.0557</td>\n",
       "      <td>0.7550</td>\n",
       "    </tr>\n",
       "    <tr>\n",
       "      <th>ML_p2</th>\n",
       "      <td>0.4265</td>\n",
       "      <td>0.1156</td>\n",
       "      <td>3.6879</td>\n",
       "      <td>-0.1226</td>\n",
       "      <td>0.5083</td>\n",
       "    </tr>\n",
       "    <tr>\n",
       "      <th>ML_p2_v2</th>\n",
       "      <td>0.2352</td>\n",
       "      <td>0.0788</td>\n",
       "      <td>2.9843</td>\n",
       "      <td>-0.0781</td>\n",
       "      <td>0.9576</td>\n",
       "    </tr>\n",
       "    <tr>\n",
       "      <th>BM1</th>\n",
       "      <td>-0.1589</td>\n",
       "      <td>0.7478</td>\n",
       "      <td>-0.2126</td>\n",
       "      <td>-0.8326</td>\n",
       "      <td>0.5131</td>\n",
       "    </tr>\n",
       "    <tr>\n",
       "      <th>BM2</th>\n",
       "      <td>0.2878</td>\n",
       "      <td>0.1163</td>\n",
       "      <td>2.4739</td>\n",
       "      <td>-0.0365</td>\n",
       "      <td>0.5045</td>\n",
       "    </tr>\n",
       "  </tbody>\n",
       "</table>\n",
       "</div>"
      ],
      "text/plain": [
       "          Return  Volatility  Sharpe     MDD     Win\n",
       "ML_p1     0.2326      0.0836  2.7830 -0.0557  0.7550\n",
       "ML_p2     0.4265      0.1156  3.6879 -0.1226  0.5083\n",
       "ML_p2_v2  0.2352      0.0788  2.9843 -0.0781  0.9576\n",
       "BM1      -0.1589      0.7478 -0.2126 -0.8326  0.5131\n",
       "BM2       0.2878      0.1163  2.4739 -0.0365  0.5045"
      ]
     },
     "execution_count": 171,
     "metadata": {},
     "output_type": "execute_result"
    }
   ],
   "source": [
    "report = evm.get_report2(df_rets, term='bit')\n",
    "print('전기간 성능평가')\n",
    "report\n",
    "## 분석 초기 과도한 스프레드가 과대 Return으로 나타남\n",
    "## Trainset이 포함되었으므로 모델 적합만 파악함"
   ]
  },
  {
   "cell_type": "code",
   "execution_count": 172,
   "metadata": {
    "ExecuteTime": {
     "end_time": "2022-03-13T04:06:02.803256Z",
     "start_time": "2022-03-13T04:06:02.778250Z"
    }
   },
   "outputs": [
    {
     "name": "stdout",
     "output_type": "stream",
     "text": [
      "최근 3분기(Test기간) 성능평가\n"
     ]
    },
    {
     "data": {
      "text/html": [
       "<div>\n",
       "<style scoped>\n",
       "    .dataframe tbody tr th:only-of-type {\n",
       "        vertical-align: middle;\n",
       "    }\n",
       "\n",
       "    .dataframe tbody tr th {\n",
       "        vertical-align: top;\n",
       "    }\n",
       "\n",
       "    .dataframe thead th {\n",
       "        text-align: right;\n",
       "    }\n",
       "</style>\n",
       "<table border=\"1\" class=\"dataframe\">\n",
       "  <thead>\n",
       "    <tr style=\"text-align: right;\">\n",
       "      <th></th>\n",
       "      <th>Return</th>\n",
       "      <th>Volatility</th>\n",
       "      <th>Sharpe</th>\n",
       "      <th>MDD</th>\n",
       "      <th>Win</th>\n",
       "    </tr>\n",
       "  </thead>\n",
       "  <tbody>\n",
       "    <tr>\n",
       "      <th>ML_p1</th>\n",
       "      <td>0.0895</td>\n",
       "      <td>0.0506</td>\n",
       "      <td>1.7688</td>\n",
       "      <td>-0.0345</td>\n",
       "      <td>0.6895</td>\n",
       "    </tr>\n",
       "    <tr>\n",
       "      <th>ML_p2</th>\n",
       "      <td>0.1873</td>\n",
       "      <td>0.0943</td>\n",
       "      <td>1.9871</td>\n",
       "      <td>-0.0802</td>\n",
       "      <td>0.5024</td>\n",
       "    </tr>\n",
       "    <tr>\n",
       "      <th>ML_p2_v2</th>\n",
       "      <td>0.0373</td>\n",
       "      <td>0.0527</td>\n",
       "      <td>0.7085</td>\n",
       "      <td>-0.0371</td>\n",
       "      <td>0.9473</td>\n",
       "    </tr>\n",
       "    <tr>\n",
       "      <th>BM1</th>\n",
       "      <td>0.4978</td>\n",
       "      <td>0.7318</td>\n",
       "      <td>0.6802</td>\n",
       "      <td>-0.6420</td>\n",
       "      <td>0.5126</td>\n",
       "    </tr>\n",
       "    <tr>\n",
       "      <th>BM2</th>\n",
       "      <td>0.1544</td>\n",
       "      <td>0.0945</td>\n",
       "      <td>1.6335</td>\n",
       "      <td>-0.0365</td>\n",
       "      <td>0.5083</td>\n",
       "    </tr>\n",
       "  </tbody>\n",
       "</table>\n",
       "</div>"
      ],
      "text/plain": [
       "          Return  Volatility  Sharpe     MDD     Win\n",
       "ML_p1     0.0895      0.0506  1.7688 -0.0345  0.6895\n",
       "ML_p2     0.1873      0.0943  1.9871 -0.0802  0.5024\n",
       "ML_p2_v2  0.0373      0.0527  0.7085 -0.0371  0.9473\n",
       "BM1       0.4978      0.7318  0.6802 -0.6420  0.5126\n",
       "BM2       0.1544      0.0945  1.6335 -0.0365  0.5083"
      ]
     },
     "execution_count": 172,
     "metadata": {},
     "output_type": "execute_result"
    }
   ],
   "source": [
    "report_l3 = evm.get_report2(df_rets[test_split:], term='bit')\n",
    "print('최근 3분기(Test기간) 성능평가')\n",
    "report_l3"
   ]
  },
  {
   "cell_type": "markdown",
   "metadata": {},
   "source": [
    "### 자산가치 추이"
   ]
  },
  {
   "cell_type": "code",
   "execution_count": 174,
   "metadata": {
    "ExecuteTime": {
     "end_time": "2022-03-13T04:07:11.203173Z",
     "start_time": "2022-03-13T04:07:11.186168Z"
    }
   },
   "outputs": [],
   "source": [
    "## GRU1, GRU2만 남김\n",
    "df_rets_clean = df_rets[['ML_p1', 'ML_p2', 'ML_p2_v2', 'BM1', 'BM2']]"
   ]
  },
  {
   "cell_type": "code",
   "execution_count": 175,
   "metadata": {
    "ExecuteTime": {
     "end_time": "2022-03-13T04:07:11.654276Z",
     "start_time": "2022-03-13T04:07:11.361201Z"
    }
   },
   "outputs": [
    {
     "data": {
      "text/plain": [
       "<matplotlib.axes._subplots.AxesSubplot at 0x25947347940>"
      ]
     },
     "execution_count": 175,
     "metadata": {},
     "output_type": "execute_result"
    },
    {
     "data": {
      "image/png": "[encoded data removed]",
      "text/plain": [
       "<Figure size 936x504 with 1 Axes>"
      ]
     },
     "metadata": {
      "needs_background": "light"
     },
     "output_type": "display_data"
    }
   ],
   "source": [
    "df_value_L3 = evm.get_df_val(df_rets_clean[test_split:])\n",
    "## Test기간\n",
    "np.log(df_value_L3).plot()"
   ]
  },
  {
   "cell_type": "markdown",
   "metadata": {},
   "source": [
    "### MDD"
   ]
  },
  {
   "cell_type": "code",
   "execution_count": 176,
   "metadata": {
    "ExecuteTime": {
     "end_time": "2022-03-13T04:07:15.713022Z",
     "start_time": "2022-03-13T04:07:12.641304Z"
    }
   },
   "outputs": [],
   "source": [
    "df_dd = evm.get_dd(df_value_L3)"
   ]
  },
  {
   "cell_type": "code",
   "execution_count": 177,
   "metadata": {
    "ExecuteTime": {
     "end_time": "2022-03-13T04:07:16.149275Z",
     "start_time": "2022-03-13T04:07:15.836063Z"
    }
   },
   "outputs": [
    {
     "data": {
      "text/plain": [
       "<matplotlib.axes._subplots.AxesSubplot at 0x25948ec3310>"
      ]
     },
     "execution_count": 177,
     "metadata": {},
     "output_type": "execute_result"
    },
    {
     "data": {
      "image/png": "[encoded data removed]",
      "text/plain": [
       "<Figure size 936x504 with 1 Axes>"
      ]
     },
     "metadata": {
      "needs_background": "light"
     },
     "output_type": "display_data"
    }
   ],
   "source": [
    "df_dd.plot()"
   ]
  },
  {
   "cell_type": "markdown",
   "metadata": {},
   "source": [
    "## 결론"
   ]
  },
  {
   "cell_type": "code",
   "execution_count": 178,
   "metadata": {},
   "outputs": [
    {
     "data": {
      "text/html": [
       "<div>\n",
       "<style scoped>\n",
       "    .dataframe tbody tr th:only-of-type {\n",
       "        vertical-align: middle;\n",
       "    }\n",
       "\n",
       "    .dataframe tbody tr th {\n",
       "        vertical-align: top;\n",
       "    }\n",
       "\n",
       "    .dataframe thead th {\n",
       "        text-align: right;\n",
       "    }\n",
       "</style>\n",
       "<table border=\"1\" class=\"dataframe\">\n",
       "  <thead>\n",
       "    <tr style=\"text-align: right;\">\n",
       "      <th></th>\n",
       "      <th>Return</th>\n",
       "      <th>Volatility</th>\n",
       "      <th>Sharpe</th>\n",
       "      <th>MDD</th>\n",
       "      <th>Win</th>\n",
       "    </tr>\n",
       "  </thead>\n",
       "  <tbody>\n",
       "    <tr>\n",
       "      <th>ML_p1</th>\n",
       "      <td>0.0895</td>\n",
       "      <td>0.0506</td>\n",
       "      <td>1.7688</td>\n",
       "      <td>-0.0345</td>\n",
       "      <td>0.6895</td>\n",
       "    </tr>\n",
       "    <tr>\n",
       "      <th>ML_p2</th>\n",
       "      <td>0.1873</td>\n",
       "      <td>0.0943</td>\n",
       "      <td>1.9871</td>\n",
       "      <td>-0.0802</td>\n",
       "      <td>0.5024</td>\n",
       "    </tr>\n",
       "    <tr>\n",
       "      <th>ML_p2_v2</th>\n",
       "      <td>0.0373</td>\n",
       "      <td>0.0527</td>\n",
       "      <td>0.7085</td>\n",
       "      <td>-0.0371</td>\n",
       "      <td>0.9473</td>\n",
       "    </tr>\n",
       "    <tr>\n",
       "      <th>BM1</th>\n",
       "      <td>0.4978</td>\n",
       "      <td>0.7318</td>\n",
       "      <td>0.6802</td>\n",
       "      <td>-0.6420</td>\n",
       "      <td>0.5126</td>\n",
       "    </tr>\n",
       "    <tr>\n",
       "      <th>BM2</th>\n",
       "      <td>0.1544</td>\n",
       "      <td>0.0945</td>\n",
       "      <td>1.6335</td>\n",
       "      <td>-0.0365</td>\n",
       "      <td>0.5083</td>\n",
       "    </tr>\n",
       "  </tbody>\n",
       "</table>\n",
       "</div>"
      ],
      "text/plain": [
       "          Return  Volatility  Sharpe     MDD     Win\n",
       "ML_p1     0.0895      0.0506  1.7688 -0.0345  0.6895\n",
       "ML_p2     0.1873      0.0943  1.9871 -0.0802  0.5024\n",
       "ML_p2_v2  0.0373      0.0527  0.7085 -0.0371  0.9473\n",
       "BM1       0.4978      0.7318  0.6802 -0.6420  0.5126\n",
       "BM2       0.1544      0.0945  1.6335 -0.0365  0.5083"
      ]
     },
     "execution_count": 178,
     "metadata": {},
     "output_type": "execute_result"
    }
   ],
   "source": [
    "report_l3"
   ]
  },
  {
   "cell_type": "markdown",
   "metadata": {},
   "source": [
    "### 중수익 저위험 만족 전략"
   ]
  },
  {
   "cell_type": "markdown",
   "metadata": {},
   "source": [
    "  - 중수익 저위험을 어떻게 정의하느냐에 따라 유효한 전략을 판단하는 관점이 다를 수 있음\n",
    "  - 중수익 저위험을 Return 14%, Volatility 10%로 정의한다면, Test기간에 대해 중수익 저위험을 만족하는 전략은 ML_p2, BM2 전략임\n",
    "  - 반면 Return 7%, Volatility 5%로 정의한다면, ML_p1 전략이 조건에 만족하는 유일한 전략임"
   ]
  },
  {
   "cell_type": "markdown",
   "metadata": {},
   "source": [
    "### BM 선정"
   ]
  },
  {
   "cell_type": "markdown",
   "metadata": {},
   "source": [
    "* BM1\n",
    "  - BM1은 당분기물 B&H 전략으로 상당한 변동성(73%)에 노출되어 있는 것을 알 수 있음\n",
    "  - 또한, MDD가 64%수준으로 실제 투자에 적용한다면 상당한 스트레스에 노출될 수 있음"
   ]
  },
  {
   "cell_type": "markdown",
   "metadata": {},
   "source": [
    "* BM2  \n",
    "  - BM2는 Train기간 동안의 당분기물대비Spread비(Spread_ratio)를 기준으로 매수매도하는 전략임\n",
    "  - 평균Spread_ratio 대비 1표준편차를 기준으로 매수매도한 결과 Test기간에 대해 Return, Vol 각각 15%, 9%를 달성하며 꽤나 매력적인 전략임\n",
    "  - MDD 역시 4%미만으로 준수함"
   ]
  },
  {
   "cell_type": "markdown",
   "metadata": {},
   "source": [
    "### 전략별 평가"
   ]
  },
  {
   "cell_type": "markdown",
   "metadata": {},
   "source": [
    "* 예측기반 스프레드매도전략; ML_p1  \n",
    "  - 수익률, 변동성 각각 9.0%, 5.0% 으로 중수익 저위험을 만족하는 전략으로 볼 수 있음\n",
    "  - BM2 대비 낮은 수익률과 낮은 변동성으로 높은 Sharpe를 달성함\n",
    "  - MDD 역시 3.5% 수준으로 준수함\n",
    "  - 준수한 수익률과 낮은 변동성을 추구하는 투자자가 선택할 수 있는 선택지로 판단됨"
   ]
  },
  {
   "cell_type": "markdown",
   "metadata": {},
   "source": [
    "* 예측기반 스프레드매수매도전략; ML_p2  \n",
    "  - 수익률, 변동성 각각 18.7%, 9.4% 으로 ML_p2 대비 높은 수익률과 높은 변동성을 기록함\n",
    "  - BM2 대비 높은 수익률과 유사한 변동성으로 전략들 중 가장 높은 Sharpe를 달성합\n",
    "  - MDD는 8.0% 수준임\n",
    "  - 공격적인 수익률과 중간정도의 변동성을 추구하는 투자자가 선택할 수 있는 선택지임"
   ]
  },
  {
   "cell_type": "markdown",
   "metadata": {},
   "source": [
    "* 이론적 스프레드에서 거래하지 않는 전략; ML_p2_v2  \n",
    "  - 이론적 스프레드를 당분기물 결재일 스프레드의 평균값으로 정의함\n",
    "  - 수익률, 변동성 각각 3.7%, 5.3% 으로 ML_p2 대비 낮은 수익률과 낮은 변동성을 기록함\n",
    "  - 이론적 스프레드 내에서 거래불가 규칙이 변동성을 낮추는 역할을 함\n",
    "  - 하지만 유의미한 투자기회를 다수 상실함으로썬 수익률 하락으로 이어짐\n",
    "  - 그 결과 Sharpe가 0.71 수준으로 떨어짐"
   ]
  },
  {
   "cell_type": "markdown",
   "metadata": {},
   "source": [
    "### 총평"
   ]
  },
  {
   "cell_type": "code",
   "execution_count": 179,
   "metadata": {},
   "outputs": [
    {
     "data": {
      "text/html": [
       "<div>\n",
       "<style scoped>\n",
       "    .dataframe tbody tr th:only-of-type {\n",
       "        vertical-align: middle;\n",
       "    }\n",
       "\n",
       "    .dataframe tbody tr th {\n",
       "        vertical-align: top;\n",
       "    }\n",
       "\n",
       "    .dataframe thead th {\n",
       "        text-align: right;\n",
       "    }\n",
       "</style>\n",
       "<table border=\"1\" class=\"dataframe\">\n",
       "  <thead>\n",
       "    <tr style=\"text-align: right;\">\n",
       "      <th></th>\n",
       "      <th>Return</th>\n",
       "      <th>Volatility</th>\n",
       "      <th>Sharpe</th>\n",
       "      <th>MDD</th>\n",
       "      <th>Win</th>\n",
       "    </tr>\n",
       "  </thead>\n",
       "  <tbody>\n",
       "    <tr>\n",
       "      <th>ML_p1</th>\n",
       "      <td>0.0895</td>\n",
       "      <td>0.0506</td>\n",
       "      <td>1.7688</td>\n",
       "      <td>-0.0345</td>\n",
       "      <td>0.6895</td>\n",
       "    </tr>\n",
       "    <tr>\n",
       "      <th>ML_p2</th>\n",
       "      <td>0.1873</td>\n",
       "      <td>0.0943</td>\n",
       "      <td>1.9871</td>\n",
       "      <td>-0.0802</td>\n",
       "      <td>0.5024</td>\n",
       "    </tr>\n",
       "    <tr>\n",
       "      <th>ML_p2_v2</th>\n",
       "      <td>0.0373</td>\n",
       "      <td>0.0527</td>\n",
       "      <td>0.7085</td>\n",
       "      <td>-0.0371</td>\n",
       "      <td>0.9473</td>\n",
       "    </tr>\n",
       "    <tr>\n",
       "      <th>BM1</th>\n",
       "      <td>0.4978</td>\n",
       "      <td>0.7318</td>\n",
       "      <td>0.6802</td>\n",
       "      <td>-0.6420</td>\n",
       "      <td>0.5126</td>\n",
       "    </tr>\n",
       "    <tr>\n",
       "      <th>BM2</th>\n",
       "      <td>0.1544</td>\n",
       "      <td>0.0945</td>\n",
       "      <td>1.6335</td>\n",
       "      <td>-0.0365</td>\n",
       "      <td>0.5083</td>\n",
       "    </tr>\n",
       "  </tbody>\n",
       "</table>\n",
       "</div>"
      ],
      "text/plain": [
       "          Return  Volatility  Sharpe     MDD     Win\n",
       "ML_p1     0.0895      0.0506  1.7688 -0.0345  0.6895\n",
       "ML_p2     0.1873      0.0943  1.9871 -0.0802  0.5024\n",
       "ML_p2_v2  0.0373      0.0527  0.7085 -0.0371  0.9473\n",
       "BM1       0.4978      0.7318  0.6802 -0.6420  0.5126\n",
       "BM2       0.1544      0.0945  1.6335 -0.0365  0.5083"
      ]
     },
     "execution_count": 179,
     "metadata": {},
     "output_type": "execute_result"
    }
   ],
   "source": [
    "report_l3"
   ]
  },
  {
   "cell_type": "markdown",
   "metadata": {},
   "source": [
    "* 수익률: BM1 > ML_p2 > BM2 > ML_p1 > ML_p2_v2\n",
    "* 변동성(-): ML_p1 > ML_p2_v2 > ML_p2 > BM2 > BM1\n",
    "* Sharpe: ML_p2 > ML_p1 > BM2 > ML_p2_v2 > BM1\n",
    "* MDD: ML_p1 > BM2 > ML_p2_v2 > ML_p2 > BM1"
   ]
  },
  {
   "cell_type": "markdown",
   "metadata": {},
   "source": [
    "* ML_p1 전략이 BM2 전략 대비 변동성, Sharpe, MDD 측면에서 우세한 전략임\n",
    "* 중수익 저위험(Return 7%, Volatility 5%) 관점에 부합하는 전략임\n",
    "* 다만, 기대수익률을 좀 더 높이기 위한 선택지로 ML_p2 전략을 고려할 수 있음"
   ]
  },
  {
   "cell_type": "markdown",
   "metadata": {},
   "source": [
    "* 기술적 이해  \n",
    "  - 룰베이스 전략(BM2) 전략에서 ML기반 예측모형을 활용하면 전략의 성능 개선이 나타남\n",
    "  - 반대로 ML기반 전략에 Rule을 추가했을 때는 전체적인 성능 햐향이 나타남(ML_p2 -> ML_p2_v2)\n",
    "  - 이는 ML모델링 과정에서 시계열의 정보를 모두 활용한 후 Rule을 추가함으로써 정보를 이중으로 활용했기 때문일 수 있음"
   ]
  },
  {
   "cell_type": "code",
   "execution_count": null,
   "metadata": {},
   "outputs": [],
   "source": []
  },
  {
   "cell_type": "code",
   "execution_count": null,
   "metadata": {},
   "outputs": [],
   "source": []
  }
 ],
 "metadata": {
  "hide_input": false,
  "kernelspec": {
   "display_name": "Python 3",
   "language": "python",
   "name": "python3"
  },
  "language_info": {
   "codemirror_mode": {
    "name": "ipython",
    "version": 3
   },
   "file_extension": ".py",
   "mimetype": "text/x-python",
   "name": "python",
   "nbconvert_exporter": "python",
   "pygments_lexer": "ipython3",
   "version": "3.8.3"
  },
  "toc": {
   "base_numbering": 1,
   "nav_menu": {},
   "number_sections": true,
   "sideBar": true,
   "skip_h1_title": false,
   "title_cell": "Table of Contents",
   "title_sidebar": "Contents",
   "toc_cell": false,
   "toc_position": {},
   "toc_section_display": true,
   "toc_window_display": true
  },
  "varInspector": {
   "cols": {
    "lenName": 16,
    "lenType": 16,
    "lenVar": 40
   },
   "kernels_config": {
    "python": {
     "delete_cmd_postfix": "",
     "delete_cmd_prefix": "del ",
     "library": "var_list.py",
     "varRefreshCmd": "print(var_dic_list())"
    },
    "r": {
     "delete_cmd_postfix": ") ",
     "delete_cmd_prefix": "rm(",
     "library": "var_list.r",
     "varRefreshCmd": "cat(var_dic_list()) "
    }
   },
   "types_to_exclude": [
    "module",
    "function",
    "builtin_function_or_method",
    "instance",
    "_Feature"
   ],
   "window_display": false
  }
 },
 "nbformat": 4,
 "nbformat_minor": 5
}
