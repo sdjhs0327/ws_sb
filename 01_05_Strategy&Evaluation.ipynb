{
 "cells": [
  {
   "cell_type": "code",
   "execution_count": 157,
   "id": "c3cf1a8c",
   "metadata": {
    "ExecuteTime": {
     "end_time": "2022-03-14T12:41:47.409600Z",
     "start_time": "2022-03-14T12:41:47.398597Z"
    }
   },
   "outputs": [],
   "source": [
    "import pandas as pd\n",
    "import warnings\n",
    "warnings.filterwarnings('ignore')\n",
    "import numpy as np\n",
    "import math\n",
    "import datetime as dt"
   ]
  },
  {
   "cell_type": "code",
   "execution_count": 158,
   "id": "b8ecf9d7",
   "metadata": {
    "ExecuteTime": {
     "end_time": "2022-03-14T12:41:47.604840Z",
     "start_time": "2022-03-14T12:41:47.589831Z"
    }
   },
   "outputs": [],
   "source": [
    "## 시각화\n",
    "import matplotlib.pyplot as plt\n",
    "import seaborn as sns\n",
    "\n",
    "plt.rcParams[\"figure.figsize\"] = (13,7)"
   ]
  },
  {
   "cell_type": "code",
   "execution_count": 159,
   "id": "ba0a2885",
   "metadata": {
    "ExecuteTime": {
     "end_time": "2022-03-14T12:41:47.785233Z",
     "start_time": "2022-03-14T12:41:47.782234Z"
    }
   },
   "outputs": [],
   "source": [
    "## 평가모듈\n",
    "import evaluation_module as evm"
   ]
  },
  {
   "cell_type": "markdown",
   "id": "c4fbf1bb",
   "metadata": {},
   "source": [
    "## Data"
   ]
  },
  {
   "cell_type": "code",
   "execution_count": 160,
   "id": "7e7a5e73",
   "metadata": {
    "ExecuteTime": {
     "end_time": "2022-03-14T12:41:48.236719Z",
     "start_time": "2022-03-14T12:41:48.165686Z"
    }
   },
   "outputs": [],
   "source": [
    "df_ori = pd.read_csv('data/data_prep.csv')\n",
    "df_ori['time'] = pd.to_datetime(df_ori['time'])\n",
    "df_ori = df_ori.set_index('time')"
   ]
  },
  {
   "cell_type": "code",
   "execution_count": 161,
   "id": "3c907d6c",
   "metadata": {
    "ExecuteTime": {
     "end_time": "2022-03-14T12:41:48.416958Z",
     "start_time": "2022-03-14T12:41:48.366751Z"
    }
   },
   "outputs": [],
   "source": [
    "ML_res = pd.read_csv('data/result_ML.csv')\n",
    "ML_res['time'] = pd.to_datetime(ML_res['time'])\n",
    "ML_res = ML_res.set_index('time')"
   ]
  },
  {
   "cell_type": "code",
   "execution_count": 162,
   "id": "9ca9b744",
   "metadata": {
    "ExecuteTime": {
     "end_time": "2022-03-14T12:41:48.597016Z",
     "start_time": "2022-03-14T12:41:48.573011Z"
    }
   },
   "outputs": [],
   "source": [
    "dataset = df_ori.copy()\n",
    "dataset['hat'] = ML_res['hat'].dropna()\n",
    "dataset = dataset.dropna()\n",
    "\n",
    "dataset['spread_ratio'] = dataset['spread']/dataset['vwap_near']"
   ]
  },
  {
   "cell_type": "code",
   "execution_count": 163,
   "id": "3da9f4e8",
   "metadata": {
    "ExecuteTime": {
     "end_time": "2022-03-14T12:41:49.092616Z",
     "start_time": "2022-03-14T12:41:49.085615Z"
    }
   },
   "outputs": [],
   "source": [
    "## 역사적 스프레드비율\n",
    "temp = dataset.drop_duplicates(subset='epi_no', keep='last')\n",
    "cri_min = temp['spread_ratio'].min()\n",
    "cri_max = temp['spread_ratio'].max()"
   ]
  },
  {
   "cell_type": "code",
   "execution_count": 164,
   "id": "b28a9f07",
   "metadata": {
    "ExecuteTime": {
     "end_time": "2022-03-14T12:41:49.333654Z",
     "start_time": "2022-03-14T12:41:49.317642Z"
    }
   },
   "outputs": [
    {
     "data": {
      "text/plain": [
       "Timestamp('2019-12-27 12:00:00')"
      ]
     },
     "execution_count": 164,
     "metadata": {},
     "output_type": "execute_result"
    }
   ],
   "source": [
    "## Test index\n",
    "test_split = df_ori[df_ori['epi_no'] > 8].index[0]\n",
    "test_split"
   ]
  },
  {
   "cell_type": "code",
   "execution_count": 197,
   "id": "49aa5179",
   "metadata": {
    "ExecuteTime": {
     "end_time": "2022-03-14T12:49:58.834825Z",
     "start_time": "2022-03-14T12:49:58.824823Z"
    }
   },
   "outputs": [],
   "source": [
    "## 룰베이스 BM용\n",
    "cri_ustd = dataset['spread_ratio'][:test_split].quantile(0.75)\n",
    "cri_lstd = dataset['spread_ratio'][:test_split].quantile(0.25)"
   ]
  },
  {
   "cell_type": "markdown",
   "id": "08ecac21",
   "metadata": {},
   "source": [
    "## 전략구현"
   ]
  },
  {
   "cell_type": "markdown",
   "id": "74213198",
   "metadata": {},
   "source": [
    "* 전략 리스트  \n",
    "  - ML: 스프레드매수매도 기회를 모두 활용하는 전략\n",
    "  - ML_v2: 역사적 스프레드비율 외구간에서만 매수매도 기회를 활용하는 전략\n",
    "  - Rule: 스프레드비율 1표준편차 외구간에서 매수매도하는 전략\n",
    "* Bench Mark  \n",
    "  - 당분기 선물 Buy&Hold"
   ]
  },
  {
   "cell_type": "markdown",
   "id": "4f27534c",
   "metadata": {},
   "source": [
    "* ML전략 구현  \n",
    "  - 예측 스프레드가 현재 스프레드보다 낮을 때는 스프레드 매도포지션\n",
    "  - 예측 스프레드가 현재 스프레드보다 높을 때는 스프레드 매수포지션\n",
    "  - 당분기물 만기시점에는 중립\n",
    "  - pre_pos: 전기 포지션 => 전기 표지션을 통해서 현재 얻은 수익을 산출하기 위함\n",
    "* 주의사항: 거래비용은 고려하지 않음"
   ]
  },
  {
   "cell_type": "markdown",
   "id": "fde1a1e6",
   "metadata": {},
   "source": [
    "* Rule 전략 구현  \n",
    "  - 스프레드 비율(Spread/당분기물가격) 3/4분위수 초과시 매도\n",
    "  - 1/4분위수 미만시 매수\n",
    "  - 당분기물 만기시점에는 중립\n",
    "  - 스프레드 비율의 평균회귀 성향을 활용한 전략"
   ]
  },
  {
   "cell_type": "code",
   "execution_count": 198,
   "id": "49aefa8d",
   "metadata": {
    "ExecuteTime": {
     "end_time": "2022-03-14T12:50:00.022799Z",
     "start_time": "2022-03-14T12:49:59.727732Z"
    }
   },
   "outputs": [
    {
     "data": {
      "text/plain": [
       "<matplotlib.patches.Polygon at 0x1deb0bb5370>"
      ]
     },
     "execution_count": 198,
     "metadata": {},
     "output_type": "execute_result"
    },
    {
     "data": {
      "image/png": "[encoded data removed]",
      "text/plain": [
       "<Figure size 936x504 with 1 Axes>"
      ]
     },
     "metadata": {
      "needs_background": "light"
     },
     "output_type": "display_data"
    }
   ],
   "source": [
    "## Rule 전략 시각화\n",
    "dataset['spread_ratio'].plot()\n",
    "plt.axhline(dataset['spread_ratio'].mean(), color='r', linestyle='--')\n",
    "plt.axhspan(cri_ustd, cri_lstd, facecolor='gray')"
   ]
  },
  {
   "cell_type": "code",
   "execution_count": 199,
   "id": "d9eb21cd",
   "metadata": {
    "ExecuteTime": {
     "end_time": "2022-03-14T12:50:00.368726Z",
     "start_time": "2022-03-14T12:50:00.352740Z"
    }
   },
   "outputs": [],
   "source": [
    "dataset['pre_pos'] = 0\n",
    "dataset['pre_pos'][dataset['hat'].shift(-1) > dataset['spread']] = 1\n",
    "dataset['pre_pos'][dataset['hat'].shift(-1) < dataset['spread']] = -1\n",
    "dataset['pre_pos'][dataset['duetime'] == 0] = 0\n",
    "dataset['pre_pos'] = dataset['pre_pos'].shift(1)"
   ]
  },
  {
   "cell_type": "code",
   "execution_count": 200,
   "id": "bc75e97a",
   "metadata": {
    "ExecuteTime": {
     "end_time": "2022-03-14T12:50:00.548776Z",
     "start_time": "2022-03-14T12:50:00.528765Z"
    }
   },
   "outputs": [],
   "source": [
    "dataset['pre_pos_Rule'] = 0\n",
    "dataset['pre_pos_Rule'][dataset['spread_ratio'] > cri_ustd] = -1\n",
    "dataset['pre_pos_Rule'][dataset['spread_ratio'] < cri_lstd] = 1\n",
    "dataset['pre_pos'][dataset['duetime'] == 0] = 0\n",
    "dataset['pre_pos_Rule'] = dataset['pre_pos_Rule'].shift(1)"
   ]
  },
  {
   "cell_type": "code",
   "execution_count": 201,
   "id": "5754ee6f",
   "metadata": {
    "ExecuteTime": {
     "end_time": "2022-03-14T12:50:00.728815Z",
     "start_time": "2022-03-14T12:50:00.712304Z"
    }
   },
   "outputs": [],
   "source": [
    "## 항상 매수포지션일 때의 수익률\n",
    "## 스프레드차익/(매수증거금+매도증거금)\n",
    "dataset['rets'] = ((dataset['spread'] - dataset['spread'].shift(1))/\n",
    "                   (dataset['vwap_near']+dataset['vwap_longer']).shift(1))"
   ]
  },
  {
   "cell_type": "code",
   "execution_count": 202,
   "id": "95d7c22b",
   "metadata": {
    "ExecuteTime": {
     "end_time": "2022-03-14T12:50:00.923778Z",
     "start_time": "2022-03-14T12:50:00.905774Z"
    }
   },
   "outputs": [],
   "source": [
    "## 예측모형을 활용한 양측 매매 전략\n",
    "dataset['ML'] = dataset['rets'] * dataset['pre_pos']\n",
    "\n",
    "## 역사적 스프레드 비율을 임계점으로 활용하는 전략\n",
    "dataset['ML_v2'] = dataset['ML'].copy()\n",
    "dataset['ML_v2'][(dataset['spread_ratio'].shift(1) <= cri_max)&(dataset['spread_ratio'].shift(1) >= cri_min)] = 0\n",
    "\n",
    "## Rule_p1 Spread 비율이 2표준편차를 초과할때만 매도매수\n",
    "dataset['Rule'] = dataset['rets'] * dataset['pre_pos_Rule']\n",
    "\n",
    "## BM1: 당분기물 Buy&Hold 롤오버는 고려하지 않음\n",
    "dataset['BM1'] = dataset['vwap_near'].pct_change()"
   ]
  },
  {
   "cell_type": "markdown",
   "id": "619e7228",
   "metadata": {},
   "source": [
    "## 전략 평가"
   ]
  },
  {
   "cell_type": "code",
   "execution_count": 203,
   "id": "15b8070d",
   "metadata": {
    "ExecuteTime": {
     "end_time": "2022-03-14T12:50:01.269053Z",
     "start_time": "2022-03-14T12:50:01.257051Z"
    }
   },
   "outputs": [],
   "source": [
    "df_rets = dataset[['ML', 'ML_v2', 'Rule', 'BM1']].dropna()"
   ]
  },
  {
   "cell_type": "markdown",
   "id": "dd9627bb",
   "metadata": {},
   "source": [
    "### 평가 요약"
   ]
  },
  {
   "cell_type": "code",
   "execution_count": 204,
   "id": "96aa01be",
   "metadata": {
    "ExecuteTime": {
     "end_time": "2022-03-14T12:50:01.858517Z",
     "start_time": "2022-03-14T12:50:01.825509Z"
    }
   },
   "outputs": [
    {
     "name": "stdout",
     "output_type": "stream",
     "text": [
      "전체기간 성능평가\n"
     ]
    },
    {
     "data": {
      "text/html": [
       "<div>\n",
       "<style scoped>\n",
       "    .dataframe tbody tr th:only-of-type {\n",
       "        vertical-align: middle;\n",
       "    }\n",
       "\n",
       "    .dataframe tbody tr th {\n",
       "        vertical-align: top;\n",
       "    }\n",
       "\n",
       "    .dataframe thead th {\n",
       "        text-align: right;\n",
       "    }\n",
       "</style>\n",
       "<table border=\"1\" class=\"dataframe\">\n",
       "  <thead>\n",
       "    <tr style=\"text-align: right;\">\n",
       "      <th></th>\n",
       "      <th>Return</th>\n",
       "      <th>Volatility</th>\n",
       "      <th>Sharpe</th>\n",
       "      <th>MDD</th>\n",
       "      <th>Win</th>\n",
       "    </tr>\n",
       "  </thead>\n",
       "  <tbody>\n",
       "    <tr>\n",
       "      <th>ML</th>\n",
       "      <td>0.4250</td>\n",
       "      <td>0.1155</td>\n",
       "      <td>3.6804</td>\n",
       "      <td>-0.1191</td>\n",
       "      <td>0.5085</td>\n",
       "    </tr>\n",
       "    <tr>\n",
       "      <th>ML_v2</th>\n",
       "      <td>0.2327</td>\n",
       "      <td>0.0787</td>\n",
       "      <td>2.9560</td>\n",
       "      <td>-0.0781</td>\n",
       "      <td>0.9576</td>\n",
       "    </tr>\n",
       "    <tr>\n",
       "      <th>Rule</th>\n",
       "      <td>0.5328</td>\n",
       "      <td>0.0990</td>\n",
       "      <td>5.3826</td>\n",
       "      <td>-0.0384</td>\n",
       "      <td>0.7731</td>\n",
       "    </tr>\n",
       "    <tr>\n",
       "      <th>BM1</th>\n",
       "      <td>-0.1589</td>\n",
       "      <td>0.7478</td>\n",
       "      <td>-0.2126</td>\n",
       "      <td>-0.8326</td>\n",
       "      <td>0.5131</td>\n",
       "    </tr>\n",
       "  </tbody>\n",
       "</table>\n",
       "</div>"
      ],
      "text/plain": [
       "       Return  Volatility  Sharpe     MDD     Win\n",
       "ML     0.4250      0.1155  3.6804 -0.1191  0.5085\n",
       "ML_v2  0.2327      0.0787  2.9560 -0.0781  0.9576\n",
       "Rule   0.5328      0.0990  5.3826 -0.0384  0.7731\n",
       "BM1   -0.1589      0.7478 -0.2126 -0.8326  0.5131"
      ]
     },
     "execution_count": 204,
     "metadata": {},
     "output_type": "execute_result"
    }
   ],
   "source": [
    "report = evm.get_report2(df_rets, term='bit')\n",
    "print('전체기간 성능평가')\n",
    "report\n",
    "## 분석 초기 과도한 스프레드가 과대 Return으로 나타남\n",
    "## Trainset이 포함되었으므로 모델 적합만 파악함"
   ]
  },
  {
   "cell_type": "code",
   "execution_count": 205,
   "id": "72ac3297",
   "metadata": {
    "ExecuteTime": {
     "end_time": "2022-03-14T12:50:02.339301Z",
     "start_time": "2022-03-14T12:50:02.306266Z"
    }
   },
   "outputs": [
    {
     "name": "stdout",
     "output_type": "stream",
     "text": [
      "최근 3분기(Test기간) 성능평가\n"
     ]
    },
    {
     "data": {
      "text/html": [
       "<div>\n",
       "<style scoped>\n",
       "    .dataframe tbody tr th:only-of-type {\n",
       "        vertical-align: middle;\n",
       "    }\n",
       "\n",
       "    .dataframe tbody tr th {\n",
       "        vertical-align: top;\n",
       "    }\n",
       "\n",
       "    .dataframe thead th {\n",
       "        text-align: right;\n",
       "    }\n",
       "</style>\n",
       "<table border=\"1\" class=\"dataframe\">\n",
       "  <thead>\n",
       "    <tr style=\"text-align: right;\">\n",
       "      <th></th>\n",
       "      <th>Return</th>\n",
       "      <th>Volatility</th>\n",
       "      <th>Sharpe</th>\n",
       "      <th>MDD</th>\n",
       "      <th>Win</th>\n",
       "    </tr>\n",
       "  </thead>\n",
       "  <tbody>\n",
       "    <tr>\n",
       "      <th>ML</th>\n",
       "      <td>0.1911</td>\n",
       "      <td>0.0942</td>\n",
       "      <td>2.0285</td>\n",
       "      <td>-0.0802</td>\n",
       "      <td>0.5027</td>\n",
       "    </tr>\n",
       "    <tr>\n",
       "      <th>ML_v2</th>\n",
       "      <td>0.0373</td>\n",
       "      <td>0.0527</td>\n",
       "      <td>0.7085</td>\n",
       "      <td>-0.0371</td>\n",
       "      <td>0.9473</td>\n",
       "    </tr>\n",
       "    <tr>\n",
       "      <th>Rule</th>\n",
       "      <td>0.4562</td>\n",
       "      <td>0.0731</td>\n",
       "      <td>6.2416</td>\n",
       "      <td>-0.0131</td>\n",
       "      <td>0.7767</td>\n",
       "    </tr>\n",
       "    <tr>\n",
       "      <th>BM1</th>\n",
       "      <td>0.4978</td>\n",
       "      <td>0.7318</td>\n",
       "      <td>0.6802</td>\n",
       "      <td>-0.6420</td>\n",
       "      <td>0.5126</td>\n",
       "    </tr>\n",
       "  </tbody>\n",
       "</table>\n",
       "</div>"
      ],
      "text/plain": [
       "       Return  Volatility  Sharpe     MDD     Win\n",
       "ML     0.1911      0.0942  2.0285 -0.0802  0.5027\n",
       "ML_v2  0.0373      0.0527  0.7085 -0.0371  0.9473\n",
       "Rule   0.4562      0.0731  6.2416 -0.0131  0.7767\n",
       "BM1    0.4978      0.7318  0.6802 -0.6420  0.5126"
      ]
     },
     "execution_count": 205,
     "metadata": {},
     "output_type": "execute_result"
    }
   ],
   "source": [
    "report_l3 = evm.get_report2(df_rets[test_split:], term='bit')\n",
    "print('최근 3분기(Test기간) 성능평가')\n",
    "report_l3"
   ]
  },
  {
   "cell_type": "markdown",
   "id": "c0e2dbe3",
   "metadata": {},
   "source": [
    "### 자산가치 추이"
   ]
  },
  {
   "cell_type": "code",
   "execution_count": 206,
   "id": "e92436ab",
   "metadata": {
    "ExecuteTime": {
     "end_time": "2022-03-14T12:50:02.985773Z",
     "start_time": "2022-03-14T12:50:02.689076Z"
    }
   },
   "outputs": [
    {
     "data": {
      "text/plain": [
       "<AxesSubplot:xlabel='time'>"
      ]
     },
     "execution_count": 206,
     "metadata": {},
     "output_type": "execute_result"
    },
    {
     "data": {
      "image/png": "[encoded data removed]",
      "text/plain": [
       "<Figure size 936x504 with 1 Axes>"
      ]
     },
     "metadata": {
      "needs_background": "light"
     },
     "output_type": "display_data"
    }
   ],
   "source": [
    "df_value_L3 = evm.get_df_val(df_rets[test_split:])\n",
    "## Test기간\n",
    "np.log(df_value_L3).plot()"
   ]
  },
  {
   "cell_type": "markdown",
   "id": "d400ae80",
   "metadata": {},
   "source": [
    "### MDD"
   ]
  },
  {
   "cell_type": "code",
   "execution_count": 207,
   "id": "778b2fe8",
   "metadata": {
    "ExecuteTime": {
     "end_time": "2022-03-14T12:50:07.011932Z",
     "start_time": "2022-03-14T12:50:03.984967Z"
    }
   },
   "outputs": [],
   "source": [
    "df_dd = evm.get_dd(df_value_L3)"
   ]
  },
  {
   "cell_type": "code",
   "execution_count": 208,
   "id": "9b49311c",
   "metadata": {
    "ExecuteTime": {
     "end_time": "2022-03-14T12:50:07.432031Z",
     "start_time": "2022-03-14T12:50:07.133963Z"
    }
   },
   "outputs": [
    {
     "data": {
      "text/plain": [
       "<AxesSubplot:xlabel='time'>"
      ]
     },
     "execution_count": 208,
     "metadata": {},
     "output_type": "execute_result"
    },
    {
     "data": {
      "image/png": "[encoded data removed]",
      "text/plain": [
       "<Figure size 936x504 with 1 Axes>"
      ]
     },
     "metadata": {
      "needs_background": "light"
     },
     "output_type": "display_data"
    }
   ],
   "source": [
    "df_dd.plot()"
   ]
  },
  {
   "cell_type": "markdown",
   "id": "e311b4f2",
   "metadata": {},
   "source": [
    "### Turn Over"
   ]
  },
  {
   "cell_type": "code",
   "execution_count": 222,
   "id": "8b93b12d",
   "metadata": {
    "ExecuteTime": {
     "end_time": "2022-03-14T12:59:05.411306Z",
     "start_time": "2022-03-14T12:59:05.402315Z"
    }
   },
   "outputs": [],
   "source": [
    "temp = dataset[test_split:].copy()\n",
    "\n",
    "TO_ML = len(temp[(temp['pre_pos_Rule'].shift() != temp['pre_pos_Rule'])])\n",
    "TO_Rule = len(temp[(temp['pre_pos'].shift() != temp['pre_pos'])])"
   ]
  },
  {
   "cell_type": "code",
   "execution_count": 231,
   "id": "e50d4393",
   "metadata": {
    "ExecuteTime": {
     "end_time": "2022-03-14T13:02:19.623824Z",
     "start_time": "2022-03-14T13:02:19.609830Z"
    }
   },
   "outputs": [
    {
     "name": "stdout",
     "output_type": "stream",
     "text": [
      "Test기간 6529틱 중\n",
      "ML: 448회\n",
      "Rule: 725회\n",
      "포지션 변경발생\n"
     ]
    }
   ],
   "source": [
    "print(f\"Test기간 {len(temp)}틱 중\")\n",
    "print(f\"ML: {TO_ML}회\")\n",
    "print(f\"Rule: {TO_Rule}회\")\n",
    "print(\"포지션 변경발생\")"
   ]
  },
  {
   "cell_type": "markdown",
   "id": "00eaf238",
   "metadata": {},
   "source": [
    "## 결론"
   ]
  },
  {
   "cell_type": "code",
   "execution_count": 232,
   "id": "45318954",
   "metadata": {
    "ExecuteTime": {
     "end_time": "2022-03-14T13:02:20.970517Z",
     "start_time": "2022-03-14T13:02:20.962525Z"
    }
   },
   "outputs": [
    {
     "data": {
      "text/html": [
       "<div>\n",
       "<style scoped>\n",
       "    .dataframe tbody tr th:only-of-type {\n",
       "        vertical-align: middle;\n",
       "    }\n",
       "\n",
       "    .dataframe tbody tr th {\n",
       "        vertical-align: top;\n",
       "    }\n",
       "\n",
       "    .dataframe thead th {\n",
       "        text-align: right;\n",
       "    }\n",
       "</style>\n",
       "<table border=\"1\" class=\"dataframe\">\n",
       "  <thead>\n",
       "    <tr style=\"text-align: right;\">\n",
       "      <th></th>\n",
       "      <th>Return</th>\n",
       "      <th>Volatility</th>\n",
       "      <th>Sharpe</th>\n",
       "      <th>MDD</th>\n",
       "      <th>Win</th>\n",
       "    </tr>\n",
       "  </thead>\n",
       "  <tbody>\n",
       "    <tr>\n",
       "      <th>ML</th>\n",
       "      <td>0.1911</td>\n",
       "      <td>0.0942</td>\n",
       "      <td>2.0285</td>\n",
       "      <td>-0.0802</td>\n",
       "      <td>0.5027</td>\n",
       "    </tr>\n",
       "    <tr>\n",
       "      <th>ML_v2</th>\n",
       "      <td>0.0373</td>\n",
       "      <td>0.0527</td>\n",
       "      <td>0.7085</td>\n",
       "      <td>-0.0371</td>\n",
       "      <td>0.9473</td>\n",
       "    </tr>\n",
       "    <tr>\n",
       "      <th>Rule</th>\n",
       "      <td>0.4562</td>\n",
       "      <td>0.0731</td>\n",
       "      <td>6.2416</td>\n",
       "      <td>-0.0131</td>\n",
       "      <td>0.7767</td>\n",
       "    </tr>\n",
       "    <tr>\n",
       "      <th>BM1</th>\n",
       "      <td>0.4978</td>\n",
       "      <td>0.7318</td>\n",
       "      <td>0.6802</td>\n",
       "      <td>-0.6420</td>\n",
       "      <td>0.5126</td>\n",
       "    </tr>\n",
       "  </tbody>\n",
       "</table>\n",
       "</div>"
      ],
      "text/plain": [
       "       Return  Volatility  Sharpe     MDD     Win\n",
       "ML     0.1911      0.0942  2.0285 -0.0802  0.5027\n",
       "ML_v2  0.0373      0.0527  0.7085 -0.0371  0.9473\n",
       "Rule   0.4562      0.0731  6.2416 -0.0131  0.7767\n",
       "BM1    0.4978      0.7318  0.6802 -0.6420  0.5126"
      ]
     },
     "execution_count": 232,
     "metadata": {},
     "output_type": "execute_result"
    }
   ],
   "source": [
    "report_l3"
   ]
  },
  {
   "cell_type": "markdown",
   "id": "81e54044",
   "metadata": {},
   "source": [
    "### 중수익 저위험 만족 전략"
   ]
  },
  {
   "cell_type": "markdown",
   "id": "40a3512b",
   "metadata": {},
   "source": [
    "  - 저위험 중수익을 어떻게 정의할 수 있을까?\n",
    "  - 저위험 중수익을 Return 15%, Volatility 10%로 정의한다면, Test기간에 대해 중수익 저위험을 만족하는 전략은 ML, Rule 전략임"
   ]
  },
  {
   "cell_type": "markdown",
   "id": "3bcbac2d",
   "metadata": {},
   "source": [
    "### BM 선정"
   ]
  },
  {
   "cell_type": "markdown",
   "id": "58b9f96b",
   "metadata": {},
   "source": [
    "* BM1\n",
    "  - BM1은 당분기물 B&H 전략으로 상당한 변동성(73%)에 노출되어 있는 것을 알 수 있음\n",
    "  - 또한, MDD가 64%수준으로 실제 투자에 적용한다면 상당한 스트레스에 노출될 수 있음"
   ]
  },
  {
   "cell_type": "markdown",
   "id": "4166d547",
   "metadata": {},
   "source": [
    "### 전략별 평가"
   ]
  },
  {
   "cell_type": "markdown",
   "id": "b2b260db",
   "metadata": {},
   "source": [
    "* 예측기반 스프레드 매수매도전략; ML \n",
    "  - 수익률, 변동성 각각 18.7%, 9.4% 으로 준수한 수익률과 BM1 대비 안정적인 변동성을 기록함\n",
    "  - Sharpe 역시 1.99 수준으로 준수함\n",
    "  - MDD는 8.0% 수준임\n",
    "  - 다만 전기간대비 Test기간(최근 3분기)의 Sharpe 급격히 떨어지는 것으로 보아 모형의 과적합을 의심할 수 있음 3.69 -> 1.99"
   ]
  },
  {
   "cell_type": "markdown",
   "id": "c1924812",
   "metadata": {},
   "source": [
    "* 역사적 스프레드에서 거래하지 않는 전략; M_v2  \n",
    "  - 역사적 스프레드를 당분기물 결재일 스프레드의 평균값으로 정의함\n",
    "  - 수익률, 변동성 각각 3.7%, 5.3% 으로 ML 대비 낮은 수익률과 낮은 변동성을 기록함\n",
    "  - 역사적 스프레드 내에서 거래불가 규칙이 변동성을 낮추는 역할을 함\n",
    "  - 하지만 유의미한 투자기회를 다수 상실함으로썬 수익률 하락으로 이어짐\n",
    "  - 그 결과 Sharpe가 0.71 수준으로 떨어짐"
   ]
  },
  {
   "cell_type": "markdown",
   "id": "68eb3697",
   "metadata": {},
   "source": [
    "* Spread ratio 1표준편차 외구간 스프레드 매수매도 전략; Rule\n",
    "  - 수익률, 변동성 각각 45.6%, 7.3% 으로 전략 중 가장 높은 수익률과 BM1 대비 안정적인 변동성을 기록함\n",
    "  - Sharpe 역시 6.24 수준으로 가장 준수함\n",
    "  - MDD는 1.3% 수준임\n",
    "  - 전체기간대비 Test기간의 Sharpe 하락도 관찰되지 않음 5.38 -> 6.24\n",
    "  - 매우 비대칭적 성과로 크립토 시장의 단기적 시장 비효율성의 근거일 수 있음"
   ]
  },
  {
   "cell_type": "markdown",
   "id": "14f9d1a9",
   "metadata": {},
   "source": [
    "### 총평"
   ]
  },
  {
   "cell_type": "code",
   "execution_count": 233,
   "id": "b0110d2a",
   "metadata": {
    "ExecuteTime": {
     "end_time": "2022-03-14T13:02:36.288028Z",
     "start_time": "2022-03-14T13:02:36.268024Z"
    }
   },
   "outputs": [
    {
     "data": {
      "text/html": [
       "<div>\n",
       "<style scoped>\n",
       "    .dataframe tbody tr th:only-of-type {\n",
       "        vertical-align: middle;\n",
       "    }\n",
       "\n",
       "    .dataframe tbody tr th {\n",
       "        vertical-align: top;\n",
       "    }\n",
       "\n",
       "    .dataframe thead th {\n",
       "        text-align: right;\n",
       "    }\n",
       "</style>\n",
       "<table border=\"1\" class=\"dataframe\">\n",
       "  <thead>\n",
       "    <tr style=\"text-align: right;\">\n",
       "      <th></th>\n",
       "      <th>Return</th>\n",
       "      <th>Volatility</th>\n",
       "      <th>Sharpe</th>\n",
       "      <th>MDD</th>\n",
       "      <th>Win</th>\n",
       "    </tr>\n",
       "  </thead>\n",
       "  <tbody>\n",
       "    <tr>\n",
       "      <th>ML</th>\n",
       "      <td>0.1911</td>\n",
       "      <td>0.0942</td>\n",
       "      <td>2.0285</td>\n",
       "      <td>-0.0802</td>\n",
       "      <td>0.5027</td>\n",
       "    </tr>\n",
       "    <tr>\n",
       "      <th>ML_v2</th>\n",
       "      <td>0.0373</td>\n",
       "      <td>0.0527</td>\n",
       "      <td>0.7085</td>\n",
       "      <td>-0.0371</td>\n",
       "      <td>0.9473</td>\n",
       "    </tr>\n",
       "    <tr>\n",
       "      <th>Rule</th>\n",
       "      <td>0.4562</td>\n",
       "      <td>0.0731</td>\n",
       "      <td>6.2416</td>\n",
       "      <td>-0.0131</td>\n",
       "      <td>0.7767</td>\n",
       "    </tr>\n",
       "    <tr>\n",
       "      <th>BM1</th>\n",
       "      <td>0.4978</td>\n",
       "      <td>0.7318</td>\n",
       "      <td>0.6802</td>\n",
       "      <td>-0.6420</td>\n",
       "      <td>0.5126</td>\n",
       "    </tr>\n",
       "  </tbody>\n",
       "</table>\n",
       "</div>"
      ],
      "text/plain": [
       "       Return  Volatility  Sharpe     MDD     Win\n",
       "ML     0.1911      0.0942  2.0285 -0.0802  0.5027\n",
       "ML_v2  0.0373      0.0527  0.7085 -0.0371  0.9473\n",
       "Rule   0.4562      0.0731  6.2416 -0.0131  0.7767\n",
       "BM1    0.4978      0.7318  0.6802 -0.6420  0.5126"
      ]
     },
     "execution_count": 233,
     "metadata": {},
     "output_type": "execute_result"
    }
   ],
   "source": [
    "report_l3"
   ]
  },
  {
   "cell_type": "markdown",
   "id": "0842e1a3",
   "metadata": {},
   "source": [
    "* 수익률: BM1 > Rule > ML > ML_v2\n",
    "* 변동성(-): ML_v2 > Rule > ML > BM1\n",
    "* Sharpe: Rule > ML > BM2 > ML_v2 > BM1\n",
    "* MDD: Rule > ML_v2 > ML > BM1"
   ]
  },
  {
   "cell_type": "markdown",
   "id": "aa40a5d4",
   "metadata": {},
   "source": [
    "* 변동성을 제외한 모든 평가지표에서 Rule 전략이 우수한 성과를 보임\n",
    "* 중수익 저위험(Return 15%, Volatility 10%) 관점에 부합하는 전략은 ML, Rule 전략임\n",
    "* 하지만 모든 평가기준에서 Rule 전략의 성과가 우수함"
   ]
  },
  {
   "cell_type": "markdown",
   "id": "cfcb68c7",
   "metadata": {},
   "source": [
    "* Test기간에 대한 적용임에도 불구하고 Rule 전략의 과도한 비대칭적 성과가 나타나는 것이 놀라움..\n",
    "* Spread_Ratio의 평균회귀 성향이 매우 강한 동시에, Spread가 과도하게 벌어지는 투자기회가 다수 존재함을 알 수 있음"
   ]
  },
  {
   "cell_type": "markdown",
   "id": "cf546903",
   "metadata": {},
   "source": [
    "* 주의사항: 매매비용을 전혀 고려하지 않은 분석임"
   ]
  },
  {
   "cell_type": "code",
   "execution_count": null,
   "id": "5f7f80e7",
   "metadata": {},
   "outputs": [],
   "source": []
  }
 ],
 "metadata": {
  "hide_input": false,
  "kernelspec": {
   "display_name": "Python 3 (ipykernel)",
   "language": "python",
   "name": "python3"
  },
  "language_info": {
   "codemirror_mode": {
    "name": "ipython",
    "version": 3
   },
   "file_extension": ".py",
   "mimetype": "text/x-python",
   "name": "python",
   "nbconvert_exporter": "python",
   "pygments_lexer": "ipython3",
   "version": "3.9.7"
  },
  "toc": {
   "base_numbering": 1,
   "nav_menu": {},
   "number_sections": true,
   "sideBar": true,
   "skip_h1_title": false,
   "title_cell": "Table of Contents",
   "title_sidebar": "Contents",
   "toc_cell": false,
   "toc_position": {},
   "toc_section_display": true,
   "toc_window_display": true
  },
  "varInspector": {
   "cols": {
    "lenName": 16,
    "lenType": 16,
    "lenVar": 40
   },
   "kernels_config": {
    "python": {
     "delete_cmd_postfix": "",
     "delete_cmd_prefix": "del ",
     "library": "var_list.py",
     "varRefreshCmd": "print(var_dic_list())"
    },
    "r": {
     "delete_cmd_postfix": ") ",
     "delete_cmd_prefix": "rm(",
     "library": "var_list.r",
     "varRefreshCmd": "cat(var_dic_list()) "
    }
   },
   "types_to_exclude": [
    "module",
    "function",
    "builtin_function_or_method",
    "instance",
    "_Feature"
   ],
   "window_display": false
  }
 },
 "nbformat": 4,
 "nbformat_minor": 5
}
