{
 "cells": [
  {
   "cell_type": "code",
   "execution_count": 339,
   "metadata": {
    "ExecuteTime": {
     "end_time": "2022-03-15T04:31:53.603626Z",
     "start_time": "2022-03-15T04:31:53.599641Z"
    }
   },
   "outputs": [],
   "source": [
    "import pandas as pd\n",
    "import warnings\n",
    "warnings.filterwarnings('ignore')\n",
    "import numpy as np\n",
    "import math\n",
    "import datetime as dt"
   ]
  },
  {
   "cell_type": "code",
   "execution_count": 340,
   "metadata": {
    "ExecuteTime": {
     "end_time": "2022-03-15T04:31:53.843318Z",
     "start_time": "2022-03-15T04:31:53.830320Z"
    }
   },
   "outputs": [],
   "source": [
    "## 시각화\n",
    "import matplotlib.pyplot as plt\n",
    "import seaborn as sns\n",
    "\n",
    "plt.rcParams[\"figure.figsize\"] = (13,7)"
   ]
  },
  {
   "cell_type": "code",
   "execution_count": 341,
   "metadata": {
    "ExecuteTime": {
     "end_time": "2022-03-15T04:31:54.069162Z",
     "start_time": "2022-03-15T04:31:54.057073Z"
    }
   },
   "outputs": [],
   "source": [
    "## 평가모듈\n",
    "import evaluation_module as evm"
   ]
  },
  {
   "cell_type": "markdown",
   "metadata": {},
   "source": [
    "## Data"
   ]
  },
  {
   "cell_type": "code",
   "execution_count": 342,
   "metadata": {
    "ExecuteTime": {
     "end_time": "2022-03-15T04:31:54.399283Z",
     "start_time": "2022-03-15T04:31:54.318310Z"
    }
   },
   "outputs": [],
   "source": [
    "df_ori = pd.read_csv('data/data_prep.csv')\n",
    "df_ori['time'] = pd.to_datetime(df_ori['time'])\n",
    "df_ori = df_ori.set_index('time')"
   ]
  },
  {
   "cell_type": "code",
   "execution_count": 343,
   "metadata": {
    "ExecuteTime": {
     "end_time": "2022-03-15T04:31:54.639511Z",
     "start_time": "2022-03-15T04:31:54.614579Z"
    }
   },
   "outputs": [],
   "source": [
    "dataset = df_ori.copy()\n",
    "dataset = dataset.dropna()\n",
    "\n",
    "dataset['spread_ratio'] = dataset['spread']/dataset['vwap_near']"
   ]
  },
  {
   "cell_type": "markdown",
   "metadata": {},
   "source": [
    "## 전략구현"
   ]
  },
  {
   "cell_type": "markdown",
   "metadata": {},
   "source": [
    "* Rule 전략 구현  \n",
    "  - 이전 4개 에피소드 통계량을 기준 의사결정 방식\n",
    "  - 통계량 스프레드 비율(Spread/당분기물가격) 3/4분위수, 1/4분위수\n",
    "  - 3/4분위수 초과시 매도 1/4분위수 미만시 매수\n",
    "  - 당분기물 만기시점에는 중립\n",
    "  - 스프레드 비율의 평균회귀 성향을 활용한 전략"
   ]
  },
  {
   "cell_type": "code",
   "execution_count": 348,
   "metadata": {
    "ExecuteTime": {
     "end_time": "2022-03-15T04:34:28.783034Z",
     "start_time": "2022-03-15T04:33:48.525865Z"
    }
   },
   "outputs": [],
   "source": [
    "## shape 최적화\n",
    "sharpe_ls = []\n",
    "df = dataset.copy()\n",
    "for u in range(70, 90):\n",
    "    for d in range(30, 50):\n",
    "        ## 통계량 기준 임계점 제시\n",
    "        df['cri_u'] = np.nan\n",
    "        df['cri_d'] = np.nan\n",
    "        ## 에피소드 5, 6, 7, 8에 대한 최적화\n",
    "        for i in range(1, 8):\n",
    "            df['cri_u'][(df['epi_no'] == i+4)] = df['spread_ratio'][(df['epi_no'] == i)|(df['epi_no'] <= i+3)].quantile(u * .01)\n",
    "            df['cri_d'][(df['epi_no'] == i+4)] = df['spread_ratio'][(df['epi_no'] == i)|(df['epi_no'] <= i+3)].quantile(d * .01)\n",
    "\n",
    "        ## 임계점기준 포지션 결정\n",
    "        df['pre_pos_Rule'] = 0\n",
    "        df['pre_pos_Rule'][df['spread_ratio'] > df['cri_u']] = -1\n",
    "        df['pre_pos_Rule'][df['spread_ratio'] < df['cri_d']] = 1\n",
    "        df['pre_pos_Rule'][df['duetime'] == 0] = 0\n",
    "        df['pre_pos_Rule'] = df['pre_pos_Rule'].shift(1)\n",
    "\n",
    "        ## 매수포지션에서의 수익률\n",
    "        ## 스프레드차익/(매수증거금+매도증거금)\n",
    "        df['rets'] = ((df['spread'] - df['spread'].shift(1))/\n",
    "                           (df['vwap_near']+df['vwap_longer']).shift(1))\n",
    "\n",
    "        ## Rule 반영 매도매수 수익률\n",
    "        df['Rule'] = df['rets'] * df['pre_pos_Rule']\n",
    "\n",
    "        rets_temp = df[['Rule']].dropna()\n",
    "        report_temp = evm.get_report2(rets_temp, term='bit')\n",
    "        sharpe_ls.append((u*.01, d*.01, report_temp['Sharpe']['Rule']))"
   ]
  },
  {
   "cell_type": "code",
   "execution_count": 351,
   "metadata": {
    "ExecuteTime": {
     "end_time": "2022-03-15T04:35:03.429075Z",
     "start_time": "2022-03-15T04:35:03.414116Z"
    }
   },
   "outputs": [
    {
     "data": {
      "text/html": [
       "<div>\n",
       "<style scoped>\n",
       "    .dataframe tbody tr th:only-of-type {\n",
       "        vertical-align: middle;\n",
       "    }\n",
       "\n",
       "    .dataframe tbody tr th {\n",
       "        vertical-align: top;\n",
       "    }\n",
       "\n",
       "    .dataframe thead th {\n",
       "        text-align: right;\n",
       "    }\n",
       "</style>\n",
       "<table border=\"1\" class=\"dataframe\">\n",
       "  <thead>\n",
       "    <tr style=\"text-align: right;\">\n",
       "      <th></th>\n",
       "      <th>cri_u</th>\n",
       "      <th>cri_d</th>\n",
       "      <th>Sharpe</th>\n",
       "    </tr>\n",
       "  </thead>\n",
       "  <tbody>\n",
       "    <tr>\n",
       "      <th>293</th>\n",
       "      <td>0.84</td>\n",
       "      <td>0.43</td>\n",
       "      <td>4.7116</td>\n",
       "    </tr>\n",
       "  </tbody>\n",
       "</table>\n",
       "</div>"
      ],
      "text/plain": [
       "     cri_u  cri_d  Sharpe\n",
       "293   0.84   0.43  4.7116"
      ]
     },
     "execution_count": 351,
     "metadata": {},
     "output_type": "execute_result"
    }
   ],
   "source": [
    "result = pd.DataFrame(sharpe_ls, columns=['cri_u', 'cri_d', 'Sharpe'])\n",
    "result = result[result['Sharpe'] == result['Sharpe'].max()]\n",
    "result"
   ]
  },
  {
   "cell_type": "code",
   "execution_count": 352,
   "metadata": {
    "ExecuteTime": {
     "end_time": "2022-03-15T04:35:04.018238Z",
     "start_time": "2022-03-15T04:35:03.879684Z"
    }
   },
   "outputs": [],
   "source": [
    "## 최적화 결과 적용\n",
    "opt_cri_u = list(result['cri_u'])[0]\n",
    "opt_cri_d = list(result['cri_d'])[0]\n",
    "\n",
    "dataset['cri_u'] = np.nan\n",
    "dataset['cri_d'] = np.nan\n",
    "## 에피소드 9, 10, 11에 대한 Test 검증\n",
    "for i in range(1, df['epi_no'].max()-1):\n",
    "    dataset['cri_u'][(df['epi_no'] == i+4)] = dataset['spread_ratio'][(dataset['epi_no'] == i)|(dataset['epi_no'] <= i+3)].quantile(opt_cri_u)\n",
    "    dataset['cri_d'][(df['epi_no'] == i+4)] = dataset['spread_ratio'][(dataset['epi_no'] == i)|(dataset['epi_no'] <= i+3)].quantile(opt_cri_d)\n",
    "\n",
    "## 임계점기준 포지션 결정\n",
    "dataset['pre_pos_Rule'] = 0\n",
    "dataset['pre_pos_Rule'][dataset['spread_ratio'] > dataset['cri_u']] = -1\n",
    "dataset['pre_pos_Rule'][dataset['spread_ratio'] < dataset['cri_d']] = 1\n",
    "dataset['pre_pos_Rule'][dataset['duetime'] == 0] = 0\n",
    "dataset['pre_pos_Rule'] = dataset['pre_pos_Rule'].shift(1)\n",
    "\n",
    "## 매수포지션에서의 수익률\n",
    "## 스프레드차익/(매수증거금+매도증거금)\n",
    "dataset['rets'] = ((dataset['spread'] - dataset['spread'].shift(1))/\n",
    "                   (dataset['vwap_near']+dataset['vwap_longer']).shift(1))\n",
    "\n",
    "## Rule 반영 매도매수 수익률\n",
    "dataset['Rule'] = dataset['rets'] * dataset['pre_pos_Rule']\n",
    "\n",
    "df_rets = dataset[['Rule']].dropna()\n",
    "report = evm.get_report2(df_rets, term='bit')"
   ]
  },
  {
   "cell_type": "markdown",
   "metadata": {},
   "source": [
    "## 전략 평가"
   ]
  },
  {
   "cell_type": "markdown",
   "metadata": {},
   "source": [
    "### 평가 요약"
   ]
  },
  {
   "cell_type": "code",
   "execution_count": 353,
   "metadata": {
    "ExecuteTime": {
     "end_time": "2022-03-15T04:35:05.610706Z",
     "start_time": "2022-03-15T04:35:05.589763Z"
    }
   },
   "outputs": [
    {
     "name": "stdout",
     "output_type": "stream",
     "text": [
      "전체기간 성능평가\n"
     ]
    },
    {
     "data": {
      "text/html": [
       "<div>\n",
       "<style scoped>\n",
       "    .dataframe tbody tr th:only-of-type {\n",
       "        vertical-align: middle;\n",
       "    }\n",
       "\n",
       "    .dataframe tbody tr th {\n",
       "        vertical-align: top;\n",
       "    }\n",
       "\n",
       "    .dataframe thead th {\n",
       "        text-align: right;\n",
       "    }\n",
       "</style>\n",
       "<table border=\"1\" class=\"dataframe\">\n",
       "  <thead>\n",
       "    <tr style=\"text-align: right;\">\n",
       "      <th></th>\n",
       "      <th>Return</th>\n",
       "      <th>Volatility</th>\n",
       "      <th>Sharpe</th>\n",
       "      <th>MDD</th>\n",
       "      <th>Win</th>\n",
       "    </tr>\n",
       "  </thead>\n",
       "  <tbody>\n",
       "    <tr>\n",
       "      <th>Rule</th>\n",
       "      <td>0.312</td>\n",
       "      <td>0.0662</td>\n",
       "      <td>4.7116</td>\n",
       "      <td>-0.0389</td>\n",
       "      <td>0.8372</td>\n",
       "    </tr>\n",
       "  </tbody>\n",
       "</table>\n",
       "</div>"
      ],
      "text/plain": [
       "      Return  Volatility  Sharpe     MDD     Win\n",
       "Rule   0.312      0.0662  4.7116 -0.0389  0.8372"
      ]
     },
     "execution_count": 353,
     "metadata": {},
     "output_type": "execute_result"
    }
   ],
   "source": [
    "report = evm.get_report2(df_rets, term='bit')\n",
    "print('전체기간 성능평가')\n",
    "report\n",
    "## 분석 초기 과도한 스프레드가 과대 Return으로 나타남\n",
    "## Trainset이 포함되었으므로 모델 적합만 파악함"
   ]
  },
  {
   "cell_type": "code",
   "execution_count": 354,
   "metadata": {
    "ExecuteTime": {
     "end_time": "2022-03-15T04:35:10.775987Z",
     "start_time": "2022-03-15T04:35:10.750057Z"
    }
   },
   "outputs": [
    {
     "name": "stdout",
     "output_type": "stream",
     "text": [
      "최근 3분기(Test기간) 성능평가\n"
     ]
    },
    {
     "data": {
      "text/html": [
       "<div>\n",
       "<style scoped>\n",
       "    .dataframe tbody tr th:only-of-type {\n",
       "        vertical-align: middle;\n",
       "    }\n",
       "\n",
       "    .dataframe tbody tr th {\n",
       "        vertical-align: top;\n",
       "    }\n",
       "\n",
       "    .dataframe thead th {\n",
       "        text-align: right;\n",
       "    }\n",
       "</style>\n",
       "<table border=\"1\" class=\"dataframe\">\n",
       "  <thead>\n",
       "    <tr style=\"text-align: right;\">\n",
       "      <th></th>\n",
       "      <th>Return</th>\n",
       "      <th>Volatility</th>\n",
       "      <th>Sharpe</th>\n",
       "      <th>MDD</th>\n",
       "      <th>Win</th>\n",
       "    </tr>\n",
       "  </thead>\n",
       "  <tbody>\n",
       "    <tr>\n",
       "      <th>Rule</th>\n",
       "      <td>0.5225</td>\n",
       "      <td>0.0744</td>\n",
       "      <td>7.027</td>\n",
       "      <td>-0.0131</td>\n",
       "      <td>0.8005</td>\n",
       "    </tr>\n",
       "  </tbody>\n",
       "</table>\n",
       "</div>"
      ],
      "text/plain": [
       "      Return  Volatility  Sharpe     MDD     Win\n",
       "Rule  0.5225      0.0744   7.027 -0.0131  0.8005"
      ]
     },
     "execution_count": 354,
     "metadata": {},
     "output_type": "execute_result"
    }
   ],
   "source": [
    "## Test기간에 대한 성능\n",
    "df_rets_l3 = df_rets[dataset[dataset['epi_no'] == 9].index[0]:].copy()\n",
    "report_l3 = evm.get_report2(df_rets_l3, term='bit')\n",
    "print('최근 3분기(Test기간) 성능평가')\n",
    "report_l3"
   ]
  },
  {
   "cell_type": "markdown",
   "metadata": {},
   "source": [
    "### 자산가치 추이"
   ]
  },
  {
   "cell_type": "code",
   "execution_count": 355,
   "metadata": {
    "ExecuteTime": {
     "end_time": "2022-03-15T04:35:15.040291Z",
     "start_time": "2022-03-15T04:35:14.781347Z"
    }
   },
   "outputs": [
    {
     "data": {
      "text/plain": [
       "<AxesSubplot:xlabel='time'>"
      ]
     },
     "execution_count": 355,
     "metadata": {},
     "output_type": "execute_result"
    },
    {
     "data": {
      "image/png": "[encoded data removed]",
      "text/plain": [
       "<Figure size 936x504 with 1 Axes>"
      ]
     },
     "metadata": {
      "needs_background": "light"
     },
     "output_type": "display_data"
    }
   ],
   "source": [
    "df_value_L3 = evm.get_df_val(df_rets[dataset['epi_no'] >= 9])\n",
    "df_value_L3.plot()"
   ]
  },
  {
   "cell_type": "markdown",
   "metadata": {},
   "source": [
    "### MDD"
   ]
  },
  {
   "cell_type": "code",
   "execution_count": 356,
   "metadata": {
    "ExecuteTime": {
     "end_time": "2022-03-15T04:35:21.014409Z",
     "start_time": "2022-03-15T04:35:20.357546Z"
    }
   },
   "outputs": [],
   "source": [
    "df_dd = evm.get_dd(df_value_L3)"
   ]
  },
  {
   "cell_type": "code",
   "execution_count": 357,
   "metadata": {
    "ExecuteTime": {
     "end_time": "2022-03-15T04:35:21.509273Z",
     "start_time": "2022-03-15T04:35:21.225879Z"
    }
   },
   "outputs": [
    {
     "data": {
      "text/plain": [
       "<AxesSubplot:xlabel='time'>"
      ]
     },
     "execution_count": 357,
     "metadata": {},
     "output_type": "execute_result"
    },
    {
     "data": {
      "image/png": "[encoded data removed]",
      "text/plain": [
       "<Figure size 936x504 with 1 Axes>"
      ]
     },
     "metadata": {
      "needs_background": "light"
     },
     "output_type": "display_data"
    }
   ],
   "source": [
    "df_dd.plot()"
   ]
  },
  {
   "cell_type": "markdown",
   "metadata": {},
   "source": [
    "### Turn Over"
   ]
  },
  {
   "cell_type": "code",
   "execution_count": 358,
   "metadata": {
    "ExecuteTime": {
     "end_time": "2022-03-15T04:35:25.368719Z",
     "start_time": "2022-03-15T04:35:25.357749Z"
    }
   },
   "outputs": [],
   "source": [
    "temp = dataset[dataset['epi_no'] >= 9].copy()\n",
    "TO_Rule = len(temp[(temp['pre_pos_Rule'].shift() != temp['pre_pos_Rule'])])"
   ]
  },
  {
   "cell_type": "code",
   "execution_count": 359,
   "metadata": {
    "ExecuteTime": {
     "end_time": "2022-03-15T04:35:25.896144Z",
     "start_time": "2022-03-15T04:35:25.886131Z"
    }
   },
   "outputs": [
    {
     "name": "stdout",
     "output_type": "stream",
     "text": [
      "Test기간 6532틱 중\n",
      "Rule: 687회\n",
      "포지션 변경발생\n"
     ]
    }
   ],
   "source": [
    "print(f\"Test기간 {len(temp)}틱 중\")\n",
    "print(f\"Rule: {TO_Rule}회\")\n",
    "print(\"포지션 변경발생\")"
   ]
  }
 ],
 "metadata": {
  "hide_input": false,
  "kernelspec": {
   "display_name": "Python 3",
   "language": "python",
   "name": "python3"
  },
  "language_info": {
   "codemirror_mode": {
    "name": "ipython",
    "version": 3
   },
   "file_extension": ".py",
   "mimetype": "text/x-python",
   "name": "python",
   "nbconvert_exporter": "python",
   "pygments_lexer": "ipython3",
   "version": "3.8.5"
  },
  "toc": {
   "base_numbering": 1,
   "nav_menu": {},
   "number_sections": true,
   "sideBar": true,
   "skip_h1_title": false,
   "title_cell": "Table of Contents",
   "title_sidebar": "Contents",
   "toc_cell": false,
   "toc_position": {},
   "toc_section_display": true,
   "toc_window_display": true
  },
  "varInspector": {
   "cols": {
    "lenName": 16,
    "lenType": 16,
    "lenVar": 40
   },
   "kernels_config": {
    "python": {
     "delete_cmd_postfix": "",
     "delete_cmd_prefix": "del ",
     "library": "var_list.py",
     "varRefreshCmd": "print(var_dic_list())"
    },
    "r": {
     "delete_cmd_postfix": ") ",
     "delete_cmd_prefix": "rm(",
     "library": "var_list.r",
     "varRefreshCmd": "cat(var_dic_list()) "
    }
   },
   "types_to_exclude": [
    "module",
    "function",
    "builtin_function_or_method",
    "instance",
    "_Feature"
   ],
   "window_display": false
  }
 },
 "nbformat": 4,
 "nbformat_minor": 5
}
